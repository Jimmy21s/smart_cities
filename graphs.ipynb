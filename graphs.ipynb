{
 "cells": [
  {
   "cell_type": "code",
   "execution_count": 9,
   "id": "ea5c3680",
   "metadata": {},
   "outputs": [],
   "source": [
    "from sklearn.model_selection import train_test_split\n",
    "from sklearn.ensemble import RandomForestRegressor, GradientBoostingRegressor\n",
    "from sklearn.linear_model import Ridge\n",
    "from sklearn.metrics import mean_squared_error, r2_score\n",
    "import pandas as pd\n",
    "import numpy as np\n",
    "import json\n",
    "import copy\n",
    "import folium\n",
    "import branca\n",
    "import seaborn as sns\n",
    "import matplotlib.pyplot as plt\n",
    "from scipy.cluster.hierarchy import linkage, fcluster\n",
    "\n",
    "import panel as pn\n",
    "import networkx as nx\n",
    "import geopandas as gpd\n",
    "import shapely\n",
    "from shapely.geometry import LineString, MultiLineString, shape\n",
    "import shapely.wkt\n",
    "from matplotlib import cm, colors"
   ]
  },
  {
   "cell_type": "markdown",
   "id": "5d769905",
   "metadata": {},
   "source": [
    "## Grafo de conexion entre barrios"
   ]
  },
  {
   "cell_type": "code",
   "execution_count": 18,
   "id": "b08c9bfe",
   "metadata": {},
   "outputs": [
    {
     "data": {
      "text/html": [
       "<script type=\"esms-options\">{\"shimMode\": true}</script><style>*[data-root-id],\n",
       "*[data-root-id] > * {\n",
       "  box-sizing: border-box;\n",
       "  font-family: var(--jp-ui-font-family);\n",
       "  font-size: var(--jp-ui-font-size1);\n",
       "  color: var(--vscode-editor-foreground, var(--jp-ui-font-color1));\n",
       "}\n",
       "<script type=\"esms-options\">{\"shimMode\": true}</script><style>*[data-root-id],\n",
       "*[data-root-id] > * {\n",
       "  box-sizing: border-box;\n",
       "  font-family: var(--jp-ui-font-family);\n",
       "  font-size: var(--jp-ui-font-size1);\n",
       "  color: var(--vscode-editor-foreground, var(--jp-ui-font-color1));\n",
       "}\n",
       "\n",
       "/* Override VSCode background color */\n",
       ".cell-output-ipywidget-background:has(\n",
       "    > .cell-output-ipywidget-background > .lm-Widget > *[data-root-id]\n",
       "  ),\n",
       ".cell-output-ipywidget-background:has(> .lm-Widget > *[data-root-id]) {\n",
       "  background-color: transparent !important;\n",
       "}\n",
       "</style>\n",
       "/* Override VSCode background color */\n",
       ".cell-output-ipywidget-background:has(\n",
       "    > .cell-output-ipywidget-background > .lm-Widget > *[data-root-id]\n",
       "  ),\n",
       ".cell-output-ipywidget-background:has(> .lm-Widget > *[data-root-id]) {\n",
       "  background-color: transparent !important;\n",
       "}\n",
       "</style>"
      ]
     },
     "metadata": {},
     "output_type": "display_data"
    },
    {
     "data": {
      "application/javascript": "(function(root) {\n  function now() {\n    return new Date();\n  }\n\n  const force = true;\n  const py_version = '3.7.2'.replace('rc', '-rc.').replace('.dev', '-dev.');\n  const reloading = false;\n  const Bokeh = root.Bokeh;\n\n  // Set a timeout for this load but only if we are not already initializing\n  if (typeof (root._bokeh_timeout) === \"undefined\" || (force || !root._bokeh_is_initializing)) {\n    root._bokeh_timeout = Date.now() + 5000;\n    root._bokeh_failed_load = false;\n  }\n\n  function run_callbacks() {\n    try {\n      root._bokeh_onload_callbacks.forEach(function(callback) {\n        if (callback != null)\n          callback();\n      });\n    } finally {\n      delete root._bokeh_onload_callbacks;\n    }\n    console.debug(\"Bokeh: all callbacks have finished\");\n  }\n\n  function load_libs(css_urls, js_urls, js_modules, js_exports, callback) {\n    if (css_urls == null) css_urls = [];\n    if (js_urls == null) js_urls = [];\n    if (js_modules == null) js_modules = [];\n    if (js_exports == null) js_exports = {};\n\n    root._bokeh_onload_callbacks.push(callback);\n\n    if (root._bokeh_is_loading > 0) {\n      // Don't load bokeh if it is still initializing\n      console.debug(\"Bokeh: BokehJS is being loaded, scheduling callback at\", now());\n      return null;\n    } else if (js_urls.length === 0 && js_modules.length === 0 && Object.keys(js_exports).length === 0) {\n      // There is nothing to load\n      run_callbacks();\n      return null;\n    }\n\n    function on_load() {\n      root._bokeh_is_loading--;\n      if (root._bokeh_is_loading === 0) {\n        console.debug(\"Bokeh: all BokehJS libraries/stylesheets loaded\");\n        run_callbacks()\n      }\n    }\n    window._bokeh_on_load = on_load\n\n    function on_error(e) {\n      const src_el = e.srcElement\n      console.error(\"failed to load \" + (src_el.href || src_el.src));\n    }\n\n    const skip = [];\n    if (window.requirejs) {\n      window.requirejs.config({'packages': {}, 'paths': {'plotly': 'https://cdn.plot.ly/plotly-3.0.1.min'}, 'shim': {}});\n      require([\"plotly\"], function(Plotly) {\n        window.Plotly = Plotly\n        on_load()\n      })\n      root._bokeh_is_loading = css_urls.length + 1;\n    } else {\n      root._bokeh_is_loading = css_urls.length + js_urls.length + js_modules.length + Object.keys(js_exports).length;\n    }\n\n    const existing_stylesheets = []\n    const links = document.getElementsByTagName('link')\n    for (let i = 0; i < links.length; i++) {\n      const link = links[i]\n      if (link.href != null) {\n        existing_stylesheets.push(link.href)\n      }\n    }\n    for (let i = 0; i < css_urls.length; i++) {\n      const url = css_urls[i];\n      const escaped = encodeURI(url)\n      if (existing_stylesheets.indexOf(escaped) !== -1) {\n        on_load()\n        continue;\n      }\n      const element = document.createElement(\"link\");\n      element.onload = on_load;\n      element.onerror = on_error;\n      element.rel = \"stylesheet\";\n      element.type = \"text/css\";\n      element.href = url;\n      console.debug(\"Bokeh: injecting link tag for BokehJS stylesheet: \", url);\n      document.body.appendChild(element);\n    }    if (((window.Plotly !== undefined) && (!(window.Plotly instanceof HTMLElement))) || window.requirejs) {\n      var urls = [];\n      for (var i = 0; i < urls.length; i++) {\n        skip.push(encodeURI(urls[i]))\n      }\n    }    var existing_scripts = []\n    const scripts = document.getElementsByTagName('script')\n    for (let i = 0; i < scripts.length; i++) {\n      var script = scripts[i]\n      if (script.src != null) {\n        existing_scripts.push(script.src)\n      }\n    }\n    for (let i = 0; i < js_urls.length; i++) {\n      const url = js_urls[i];\n      const escaped = encodeURI(url)\n      if (skip.indexOf(escaped) !== -1 || existing_scripts.indexOf(escaped) !== -1) {\n        if (!window.requirejs) {\n          on_load();\n        }\n        continue;\n      }\n      const element = document.createElement('script');\n      element.onload = on_load;\n      element.onerror = on_error;\n      element.async = false;\n      element.src = url;\n      console.debug(\"Bokeh: injecting script tag for BokehJS library: \", url);\n      document.head.appendChild(element);\n    }\n    for (let i = 0; i < js_modules.length; i++) {\n      const url = js_modules[i];\n      const escaped = encodeURI(url)\n      if (skip.indexOf(escaped) !== -1 || existing_scripts.indexOf(escaped) !== -1) {\n        if (!window.requirejs) {\n          on_load();\n        }\n        continue;\n      }\n      var element = document.createElement('script');\n      element.onload = on_load;\n      element.onerror = on_error;\n      element.async = false;\n      element.src = url;\n      element.type = \"module\";\n      console.debug(\"Bokeh: injecting script tag for BokehJS library: \", url);\n      document.head.appendChild(element);\n    }\n    for (const name in js_exports) {\n      const url = js_exports[name];\n      const escaped = encodeURI(url)\n      if (skip.indexOf(escaped) >= 0 || root[name] != null) {\n        if (!window.requirejs) {\n          on_load();\n        }\n        continue;\n      }\n      var element = document.createElement('script');\n      element.onerror = on_error;\n      element.async = false;\n      element.type = \"module\";\n      console.debug(\"Bokeh: injecting script tag for BokehJS library: \", url);\n      element.textContent = `\n      import ${name} from \"${url}\"\n      window.${name} = ${name}\n      window._bokeh_on_load()\n      `\n      document.head.appendChild(element);\n    }\n    if (!js_urls.length && !js_modules.length) {\n      on_load()\n    }\n  };\n\n  function inject_raw_css(css) {\n    const element = document.createElement(\"style\");\n    element.appendChild(document.createTextNode(css));\n    document.body.appendChild(element);\n  }\n\n  const js_urls = [\"https://cdn.holoviz.org/panel/1.6.3/dist/bundled/reactiveesm/es-module-shims@^1.10.0/dist/es-module-shims.min.js\", \"https://cdn.holoviz.org/panel/1.6.3/dist/bundled/plotlyplot/plotly-3.0.1.min.js\", \"https://cdn.bokeh.org/bokeh/release/bokeh-3.7.2.min.js\", \"https://cdn.bokeh.org/bokeh/release/bokeh-gl-3.7.2.min.js\", \"https://cdn.bokeh.org/bokeh/release/bokeh-widgets-3.7.2.min.js\", \"https://cdn.bokeh.org/bokeh/release/bokeh-tables-3.7.2.min.js\", \"https://cdn.holoviz.org/panel/1.6.3/dist/panel.min.js\"];\n  const js_modules = [];\n  const js_exports = {};\n  const css_urls = [\"https://cdn.holoviz.org/panel/1.6.3/dist/bundled/plotlyplot/maplibre-gl@4.4.1/dist/maplibre-gl.css?v=1.6.3\"];\n  const inline_js = [    function(Bokeh) {\n      Bokeh.set_log_level(\"info\");\n    },\nfunction(Bokeh) {} // ensure no trailing comma for IE\n  ];\n\n  function run_inline_js() {\n    if ((root.Bokeh !== undefined) || (force === true)) {\n      for (let i = 0; i < inline_js.length; i++) {\n        try {\n          inline_js[i].call(root, root.Bokeh);\n        } catch(e) {\n          if (!reloading) {\n            throw e;\n          }\n        }\n      }\n      // Cache old bokeh versions\n      if (Bokeh != undefined && !reloading) {\n        var NewBokeh = root.Bokeh;\n        if (Bokeh.versions === undefined) {\n          Bokeh.versions = new Map();\n        }\n        if (NewBokeh.version !== Bokeh.version) {\n          Bokeh.versions.set(NewBokeh.version, NewBokeh)\n        }\n        root.Bokeh = Bokeh;\n      }\n    } else if (Date.now() < root._bokeh_timeout) {\n      setTimeout(run_inline_js, 100);\n    } else if (!root._bokeh_failed_load) {\n      console.log(\"Bokeh: BokehJS failed to load within specified timeout.\");\n      root._bokeh_failed_load = true;\n    }\n    root._bokeh_is_initializing = false\n  }\n\n  function load_or_wait() {\n    // Implement a backoff loop that tries to ensure we do not load multiple\n    // versions of Bokeh and its dependencies at the same time.\n    // In recent versions we use the root._bokeh_is_initializing flag\n    // to determine whether there is an ongoing attempt to initialize\n    // bokeh, however for backward compatibility we also try to ensure\n    // that we do not start loading a newer (Panel>=1.0 and Bokeh>3) version\n    // before older versions are fully initialized.\n    if (root._bokeh_is_initializing && Date.now() > root._bokeh_timeout) {\n      // If the timeout and bokeh was not successfully loaded we reset\n      // everything and try loading again\n      root._bokeh_timeout = Date.now() + 5000;\n      root._bokeh_is_initializing = false;\n      root._bokeh_onload_callbacks = undefined;\n      root._bokeh_is_loading = 0\n      console.log(\"Bokeh: BokehJS was loaded multiple times but one version failed to initialize.\");\n      load_or_wait();\n    } else if (root._bokeh_is_initializing || (typeof root._bokeh_is_initializing === \"undefined\" && root._bokeh_onload_callbacks !== undefined)) {\n      setTimeout(load_or_wait, 100);\n    } else {\n      root._bokeh_is_initializing = true\n      root._bokeh_onload_callbacks = []\n      const bokeh_loaded = root.Bokeh != null && (root.Bokeh.version === py_version || (root.Bokeh.versions !== undefined && root.Bokeh.versions.has(py_version)));\n      if (!reloading && !bokeh_loaded) {\n        if (root.Bokeh) {\n          root.Bokeh = undefined;\n        }\n        console.debug(\"Bokeh: BokehJS not loaded, scheduling load and callback at\", now());\n      }\n      load_libs(css_urls, js_urls, js_modules, js_exports, function() {\n        console.debug(\"Bokeh: BokehJS plotting callback run at\", now());\n        run_inline_js();\n      });\n    }\n  }\n  // Give older versions of the autoload script a head-start to ensure\n  // they initialize before we start loading newer version.\n  setTimeout(load_or_wait, 100)\n}(window));",
      "application/vnd.holoviews_load.v0+json": ""
     },
     "metadata": {},
     "output_type": "display_data"
    },
    {
     "data": {
      "application/javascript": "\nif ((window.PyViz === undefined) || (window.PyViz instanceof HTMLElement)) {\n  window.PyViz = {comms: {}, comm_status:{}, kernels:{}, receivers: {}, plot_index: []}\n}\n\n\n    function JupyterCommManager() {\n    }\n\n    JupyterCommManager.prototype.register_target = function(plot_id, comm_id, msg_handler) {\n      if (window.comm_manager || ((window.Jupyter !== undefined) && (Jupyter.notebook.kernel != null))) {\n        var comm_manager = window.comm_manager || Jupyter.notebook.kernel.comm_manager;\n        comm_manager.register_target(comm_id, function(comm) {\n          comm.on_msg(msg_handler);\n        });\n      } else if ((plot_id in window.PyViz.kernels) && (window.PyViz.kernels[plot_id])) {\n        window.PyViz.kernels[plot_id].registerCommTarget(comm_id, function(comm) {\n          comm.onMsg = msg_handler;\n        });\n      } else if (typeof google != 'undefined' && google.colab.kernel != null) {\n        google.colab.kernel.comms.registerTarget(comm_id, (comm) => {\n          var messages = comm.messages[Symbol.asyncIterator]();\n          function processIteratorResult(result) {\n            var message = result.value;\n            console.log(message)\n            var content = {data: message.data, comm_id};\n            var buffers = []\n            for (var buffer of message.buffers || []) {\n              buffers.push(new DataView(buffer))\n            }\n            var metadata = message.metadata || {};\n            var msg = {content, buffers, metadata}\n            msg_handler(msg);\n            return messages.next().then(processIteratorResult);\n          }\n          return messages.next().then(processIteratorResult);\n        })\n      }\n    }\n\n    JupyterCommManager.prototype.get_client_comm = function(plot_id, comm_id, msg_handler) {\n      if (comm_id in window.PyViz.comms) {\n        return window.PyViz.comms[comm_id];\n      } else if (window.comm_manager || ((window.Jupyter !== undefined) && (Jupyter.notebook.kernel != null))) {\n        var comm_manager = window.comm_manager || Jupyter.notebook.kernel.comm_manager;\n        var comm = comm_manager.new_comm(comm_id, {}, {}, {}, comm_id);\n        if (msg_handler) {\n          comm.on_msg(msg_handler);\n        }\n      } else if ((plot_id in window.PyViz.kernels) && (window.PyViz.kernels[plot_id])) {\n        var comm = window.PyViz.kernels[plot_id].connectToComm(comm_id);\n        comm.open();\n        if (msg_handler) {\n          comm.onMsg = msg_handler;\n        }\n      } else if (typeof google != 'undefined' && google.colab.kernel != null) {\n        var comm_promise = google.colab.kernel.comms.open(comm_id)\n        comm_promise.then((comm) => {\n          window.PyViz.comms[comm_id] = comm;\n          if (msg_handler) {\n            var messages = comm.messages[Symbol.asyncIterator]();\n            function processIteratorResult(result) {\n              var message = result.value;\n              var content = {data: message.data};\n              var metadata = message.metadata || {comm_id};\n              var msg = {content, metadata}\n              msg_handler(msg);\n              return messages.next().then(processIteratorResult);\n            }\n            return messages.next().then(processIteratorResult);\n          }\n        })\n        var sendClosure = (data, metadata, buffers, disposeOnDone) => {\n          return comm_promise.then((comm) => {\n            comm.send(data, metadata, buffers, disposeOnDone);\n          });\n        };\n        var comm = {\n          send: sendClosure\n        };\n      }\n      window.PyViz.comms[comm_id] = comm;\n      return comm;\n    }\n    window.PyViz.comm_manager = new JupyterCommManager();\n    \n\n\nvar JS_MIME_TYPE = 'application/javascript';\nvar HTML_MIME_TYPE = 'text/html';\nvar EXEC_MIME_TYPE = 'application/vnd.holoviews_exec.v0+json';\nvar CLASS_NAME = 'output';\n\n/**\n * Render data to the DOM node\n */\nfunction render(props, node) {\n  var div = document.createElement(\"div\");\n  var script = document.createElement(\"script\");\n  node.appendChild(div);\n  node.appendChild(script);\n}\n\n/**\n * Handle when a new output is added\n */\nfunction handle_add_output(event, handle) {\n  var output_area = handle.output_area;\n  var output = handle.output;\n  if ((output.data == undefined) || (!output.data.hasOwnProperty(EXEC_MIME_TYPE))) {\n    return\n  }\n  var id = output.metadata[EXEC_MIME_TYPE][\"id\"];\n  var toinsert = output_area.element.find(\".\" + CLASS_NAME.split(' ')[0]);\n  if (id !== undefined) {\n    var nchildren = toinsert.length;\n    var html_node = toinsert[nchildren-1].children[0];\n    html_node.innerHTML = output.data[HTML_MIME_TYPE];\n    var scripts = [];\n    var nodelist = html_node.querySelectorAll(\"script\");\n    for (var i in nodelist) {\n      if (nodelist.hasOwnProperty(i)) {\n        scripts.push(nodelist[i])\n      }\n    }\n\n    scripts.forEach( function (oldScript) {\n      var newScript = document.createElement(\"script\");\n      var attrs = [];\n      var nodemap = oldScript.attributes;\n      for (var j in nodemap) {\n        if (nodemap.hasOwnProperty(j)) {\n          attrs.push(nodemap[j])\n        }\n      }\n      attrs.forEach(function(attr) { newScript.setAttribute(attr.name, attr.value) });\n      newScript.appendChild(document.createTextNode(oldScript.innerHTML));\n      oldScript.parentNode.replaceChild(newScript, oldScript);\n    });\n    if (JS_MIME_TYPE in output.data) {\n      toinsert[nchildren-1].children[1].textContent = output.data[JS_MIME_TYPE];\n    }\n    output_area._hv_plot_id = id;\n    if ((window.Bokeh !== undefined) && (id in Bokeh.index)) {\n      window.PyViz.plot_index[id] = Bokeh.index[id];\n    } else {\n      window.PyViz.plot_index[id] = null;\n    }\n  } else if (output.metadata[EXEC_MIME_TYPE][\"server_id\"] !== undefined) {\n    var bk_div = document.createElement(\"div\");\n    bk_div.innerHTML = output.data[HTML_MIME_TYPE];\n    var script_attrs = bk_div.children[0].attributes;\n    for (var i = 0; i < script_attrs.length; i++) {\n      toinsert[toinsert.length - 1].childNodes[1].setAttribute(script_attrs[i].name, script_attrs[i].value);\n    }\n    // store reference to server id on output_area\n    output_area._bokeh_server_id = output.metadata[EXEC_MIME_TYPE][\"server_id\"];\n  }\n}\n\n/**\n * Handle when an output is cleared or removed\n */\nfunction handle_clear_output(event, handle) {\n  var id = handle.cell.output_area._hv_plot_id;\n  var server_id = handle.cell.output_area._bokeh_server_id;\n  if (((id === undefined) || !(id in PyViz.plot_index)) && (server_id !== undefined)) { return; }\n  var comm = window.PyViz.comm_manager.get_client_comm(\"hv-extension-comm\", \"hv-extension-comm\", function () {});\n  if (server_id !== null) {\n    comm.send({event_type: 'server_delete', 'id': server_id});\n    return;\n  } else if (comm !== null) {\n    comm.send({event_type: 'delete', 'id': id});\n  }\n  delete PyViz.plot_index[id];\n  if ((window.Bokeh !== undefined) & (id in window.Bokeh.index)) {\n    var doc = window.Bokeh.index[id].model.document\n    doc.clear();\n    const i = window.Bokeh.documents.indexOf(doc);\n    if (i > -1) {\n      window.Bokeh.documents.splice(i, 1);\n    }\n  }\n}\n\n/**\n * Handle kernel restart event\n */\nfunction handle_kernel_cleanup(event, handle) {\n  delete PyViz.comms[\"hv-extension-comm\"];\n  window.PyViz.plot_index = {}\n}\n\n/**\n * Handle update_display_data messages\n */\nfunction handle_update_output(event, handle) {\n  handle_clear_output(event, {cell: {output_area: handle.output_area}})\n  handle_add_output(event, handle)\n}\n\nfunction register_renderer(events, OutputArea) {\n  function append_mime(data, metadata, element) {\n    // create a DOM node to render to\n    var toinsert = this.create_output_subarea(\n    metadata,\n    CLASS_NAME,\n    EXEC_MIME_TYPE\n    );\n    this.keyboard_manager.register_events(toinsert);\n    // Render to node\n    var props = {data: data, metadata: metadata[EXEC_MIME_TYPE]};\n    render(props, toinsert[0]);\n    element.append(toinsert);\n    return toinsert\n  }\n\n  events.on('output_added.OutputArea', handle_add_output);\n  events.on('output_updated.OutputArea', handle_update_output);\n  events.on('clear_output.CodeCell', handle_clear_output);\n  events.on('delete.Cell', handle_clear_output);\n  events.on('kernel_ready.Kernel', handle_kernel_cleanup);\n\n  OutputArea.prototype.register_mime_type(EXEC_MIME_TYPE, append_mime, {\n    safe: true,\n    index: 0\n  });\n}\n\nif (window.Jupyter !== undefined) {\n  try {\n    var events = require('base/js/events');\n    var OutputArea = require('notebook/js/outputarea').OutputArea;\n    if (OutputArea.prototype.mime_types().indexOf(EXEC_MIME_TYPE) == -1) {\n      register_renderer(events, OutputArea);\n    }\n  } catch(err) {\n  }\n}\n",
      "application/vnd.holoviews_load.v0+json": ""
     },
     "metadata": {},
     "output_type": "display_data"
    },
    {
     "data": {
      "application/vnd.holoviews_exec.v0+json": "",
      "text/html": [
       "<div id='b27165d5-3ac5-415b-86b4-02481e297f42'>\n",
       "  <div id=\"e4167043-a42f-4522-9771-4bb0249e3be6\" data-root-id=\"b27165d5-3ac5-415b-86b4-02481e297f42\" style=\"display: contents;\"></div>\n",
       "</div>\n",
       "<script type=\"application/javascript\">(function(root) {\n",
       "  var docs_json = {\"4400068e-f059-4973-aae3-ae0a94aecd66\":{\"version\":\"3.7.2\",\"title\":\"Bokeh Application\",\"roots\":[{\"type\":\"object\",\"name\":\"panel.models.browser.BrowserInfo\",\"id\":\"b27165d5-3ac5-415b-86b4-02481e297f42\"},{\"type\":\"object\",\"name\":\"panel.models.comm_manager.CommManager\",\"id\":\"f842fd87-b9d2-401e-8310-426dd27a029e\",\"attributes\":{\"plot_id\":\"b27165d5-3ac5-415b-86b4-02481e297f42\",\"comm_id\":\"eec4932971a245f7bdaf513cb5c3bee7\",\"client_comm_id\":\"dfe8c840d8364ccba33378c8556e7a8c\"}}],\"defs\":[{\"type\":\"model\",\"name\":\"ReactiveHTML1\"},{\"type\":\"model\",\"name\":\"FlexBox1\",\"properties\":[{\"name\":\"align_content\",\"kind\":\"Any\",\"default\":\"flex-start\"},{\"name\":\"align_items\",\"kind\":\"Any\",\"default\":\"flex-start\"},{\"name\":\"flex_direction\",\"kind\":\"Any\",\"default\":\"row\"},{\"name\":\"flex_wrap\",\"kind\":\"Any\",\"default\":\"wrap\"},{\"name\":\"gap\",\"kind\":\"Any\",\"default\":\"\"},{\"name\":\"justify_content\",\"kind\":\"Any\",\"default\":\"flex-start\"}]},{\"type\":\"model\",\"name\":\"FloatPanel1\",\"properties\":[{\"name\":\"config\",\"kind\":\"Any\",\"default\":{\"type\":\"map\"}},{\"name\":\"contained\",\"kind\":\"Any\",\"default\":true},{\"name\":\"position\",\"kind\":\"Any\",\"default\":\"right-top\"},{\"name\":\"offsetx\",\"kind\":\"Any\",\"default\":null},{\"name\":\"offsety\",\"kind\":\"Any\",\"default\":null},{\"name\":\"theme\",\"kind\":\"Any\",\"default\":\"primary\"},{\"name\":\"status\",\"kind\":\"Any\",\"default\":\"normalized\"}]},{\"type\":\"model\",\"name\":\"GridStack1\",\"properties\":[{\"name\":\"ncols\",\"kind\":\"Any\",\"default\":null},{\"name\":\"nrows\",\"kind\":\"Any\",\"default\":null},{\"name\":\"allow_resize\",\"kind\":\"Any\",\"default\":true},{\"name\":\"allow_drag\",\"kind\":\"Any\",\"default\":true},{\"name\":\"state\",\"kind\":\"Any\",\"default\":[]}]},{\"type\":\"model\",\"name\":\"drag1\",\"properties\":[{\"name\":\"slider_width\",\"kind\":\"Any\",\"default\":5},{\"name\":\"slider_color\",\"kind\":\"Any\",\"default\":\"black\"},{\"name\":\"value\",\"kind\":\"Any\",\"default\":50}]},{\"type\":\"model\",\"name\":\"click1\",\"properties\":[{\"name\":\"terminal_output\",\"kind\":\"Any\",\"default\":\"\"},{\"name\":\"debug_name\",\"kind\":\"Any\",\"default\":\"\"},{\"name\":\"clears\",\"kind\":\"Any\",\"default\":0}]},{\"type\":\"model\",\"name\":\"FastWrapper1\",\"properties\":[{\"name\":\"object\",\"kind\":\"Any\",\"default\":null},{\"name\":\"style\",\"kind\":\"Any\",\"default\":null}]},{\"type\":\"model\",\"name\":\"NotificationArea1\",\"properties\":[{\"name\":\"js_events\",\"kind\":\"Any\",\"default\":{\"type\":\"map\"}},{\"name\":\"max_notifications\",\"kind\":\"Any\",\"default\":5},{\"name\":\"notifications\",\"kind\":\"Any\",\"default\":[]},{\"name\":\"position\",\"kind\":\"Any\",\"default\":\"bottom-right\"},{\"name\":\"_clear\",\"kind\":\"Any\",\"default\":0},{\"name\":\"types\",\"kind\":\"Any\",\"default\":[{\"type\":\"map\",\"entries\":[[\"type\",\"warning\"],[\"background\",\"#ffc107\"],[\"icon\",{\"type\":\"map\",\"entries\":[[\"className\",\"fas fa-exclamation-triangle\"],[\"tagName\",\"i\"],[\"color\",\"white\"]]}]]},{\"type\":\"map\",\"entries\":[[\"type\",\"info\"],[\"background\",\"#007bff\"],[\"icon\",{\"type\":\"map\",\"entries\":[[\"className\",\"fas fa-info-circle\"],[\"tagName\",\"i\"],[\"color\",\"white\"]]}]]}]}]},{\"type\":\"model\",\"name\":\"Notification\",\"properties\":[{\"name\":\"background\",\"kind\":\"Any\",\"default\":null},{\"name\":\"duration\",\"kind\":\"Any\",\"default\":3000},{\"name\":\"icon\",\"kind\":\"Any\",\"default\":null},{\"name\":\"message\",\"kind\":\"Any\",\"default\":\"\"},{\"name\":\"notification_type\",\"kind\":\"Any\",\"default\":null},{\"name\":\"_rendered\",\"kind\":\"Any\",\"default\":false},{\"name\":\"_destroyed\",\"kind\":\"Any\",\"default\":false}]},{\"type\":\"model\",\"name\":\"TemplateActions1\",\"properties\":[{\"name\":\"open_modal\",\"kind\":\"Any\",\"default\":0},{\"name\":\"close_modal\",\"kind\":\"Any\",\"default\":0}]},{\"type\":\"model\",\"name\":\"BootstrapTemplateActions1\",\"properties\":[{\"name\":\"open_modal\",\"kind\":\"Any\",\"default\":0},{\"name\":\"close_modal\",\"kind\":\"Any\",\"default\":0}]},{\"type\":\"model\",\"name\":\"TemplateEditor1\",\"properties\":[{\"name\":\"layout\",\"kind\":\"Any\",\"default\":[]}]},{\"type\":\"model\",\"name\":\"MaterialTemplateActions1\",\"properties\":[{\"name\":\"open_modal\",\"kind\":\"Any\",\"default\":0},{\"name\":\"close_modal\",\"kind\":\"Any\",\"default\":0}]},{\"type\":\"model\",\"name\":\"ReactiveESM1\",\"properties\":[{\"name\":\"esm_constants\",\"kind\":\"Any\",\"default\":{\"type\":\"map\"}}]},{\"type\":\"model\",\"name\":\"JSComponent1\",\"properties\":[{\"name\":\"esm_constants\",\"kind\":\"Any\",\"default\":{\"type\":\"map\"}}]},{\"type\":\"model\",\"name\":\"ReactComponent1\",\"properties\":[{\"name\":\"esm_constants\",\"kind\":\"Any\",\"default\":{\"type\":\"map\"}}]},{\"type\":\"model\",\"name\":\"AnyWidgetComponent1\",\"properties\":[{\"name\":\"esm_constants\",\"kind\":\"Any\",\"default\":{\"type\":\"map\"}}]},{\"type\":\"model\",\"name\":\"request_value1\",\"properties\":[{\"name\":\"fill\",\"kind\":\"Any\",\"default\":\"none\"},{\"name\":\"_synced\",\"kind\":\"Any\",\"default\":null},{\"name\":\"_request_sync\",\"kind\":\"Any\",\"default\":0}]}]}};\n",
       "  var render_items = [{\"docid\":\"4400068e-f059-4973-aae3-ae0a94aecd66\",\"roots\":{\"b27165d5-3ac5-415b-86b4-02481e297f42\":\"e4167043-a42f-4522-9771-4bb0249e3be6\"},\"root_ids\":[\"b27165d5-3ac5-415b-86b4-02481e297f42\"]}];\n",
       "  var docs = Object.values(docs_json)\n",
       "  if (!docs) {\n",
       "    return\n",
       "  }\n",
       "  const py_version = docs[0].version.replace('rc', '-rc.').replace('.dev', '-dev.')\n",
       "  async function embed_document(root) {\n",
       "    var Bokeh = get_bokeh(root)\n",
       "    await Bokeh.embed.embed_items_notebook(docs_json, render_items);\n",
       "    for (const render_item of render_items) {\n",
       "      for (const root_id of render_item.root_ids) {\n",
       "\tconst id_el = document.getElementById(root_id)\n",
       "\tif (id_el.children.length && id_el.children[0].hasAttribute('data-root-id')) {\n",
       "\t  const root_el = id_el.children[0]\n",
       "\t  root_el.id = root_el.id + '-rendered'\n",
       "\t  for (const child of root_el.children) {\n",
       "            // Ensure JupyterLab does not capture keyboard shortcuts\n",
       "            // see: https://jupyterlab.readthedocs.io/en/4.1.x/extension/notebook.html#keyboard-interaction-model\n",
       "\t    child.setAttribute('data-lm-suppress-shortcuts', 'true')\n",
       "\t  }\n",
       "\t}\n",
       "      }\n",
       "    }\n",
       "  }\n",
       "  function get_bokeh(root) {\n",
       "    if (root.Bokeh === undefined) {\n",
       "      return null\n",
       "    } else if (root.Bokeh.version !== py_version) {\n",
       "      if (root.Bokeh.versions === undefined || !root.Bokeh.versions.has(py_version)) {\n",
       "\treturn null\n",
       "      }\n",
       "      return root.Bokeh.versions.get(py_version);\n",
       "    } else if (root.Bokeh.version === py_version) {\n",
       "      return root.Bokeh\n",
       "    }\n",
       "    return null\n",
       "  }\n",
       "  function is_loaded(root) {\n",
       "    var Bokeh = get_bokeh(root)\n",
       "    return (Bokeh != null && Bokeh.Panel !== undefined && ( root.Plotly !== undefined) && ( root.Plotly !== undefined) && ( root.Plotly !== undefined))\n",
       "  }\n",
       "  if (is_loaded(root)) {\n",
       "    embed_document(root);\n",
       "  } else {\n",
       "    var attempts = 0;\n",
       "    var timer = setInterval(function(root) {\n",
       "      if (is_loaded(root)) {\n",
       "        clearInterval(timer);\n",
       "        embed_document(root);\n",
       "      } else if (document.readyState == \"complete\") {\n",
       "        attempts++;\n",
       "        if (attempts > 200) {\n",
       "          clearInterval(timer);\n",
       "\t  var Bokeh = get_bokeh(root)\n",
       "\t  if (Bokeh == null || Bokeh.Panel == null) {\n",
       "            console.warn(\"Panel: ERROR: Unable to run Panel code because Bokeh or Panel library is missing\");\n",
       "\t  } else {\n",
       "\t    console.warn(\"Panel: WARNING: Attempting to render but not all required libraries could be resolved.\")\n",
       "\t    embed_document(root)\n",
       "\t  }\n",
       "        }\n",
       "      }\n",
       "    }, 25, root)\n",
       "  }\n",
       "})(window);</script>"
      ]
     },
     "metadata": {
      "application/vnd.holoviews_exec.v0+json": {
       "id": "b27165d5-3ac5-415b-86b4-02481e297f42"
      }
     },
     "output_type": "display_data"
    },
    {
     "data": {
      "application/javascript": "(function(root) {\n  function now() {\n    return new Date();\n  }\n\n  const force = true;\n  const py_version = '3.7.2'.replace('rc', '-rc.').replace('.dev', '-dev.');\n  const reloading = false;\n  const Bokeh = root.Bokeh;\n\n  // Set a timeout for this load but only if we are not already initializing\n  if (typeof (root._bokeh_timeout) === \"undefined\" || (force || !root._bokeh_is_initializing)) {\n    root._bokeh_timeout = Date.now() + 5000;\n    root._bokeh_failed_load = false;\n  }\n\n  function run_callbacks() {\n    try {\n      root._bokeh_onload_callbacks.forEach(function(callback) {\n        if (callback != null)\n          callback();\n      });\n    } finally {\n      delete root._bokeh_onload_callbacks;\n    }\n    console.debug(\"Bokeh: all callbacks have finished\");\n  }\n\n  function load_libs(css_urls, js_urls, js_modules, js_exports, callback) {\n    if (css_urls == null) css_urls = [];\n    if (js_urls == null) js_urls = [];\n    if (js_modules == null) js_modules = [];\n    if (js_exports == null) js_exports = {};\n\n    root._bokeh_onload_callbacks.push(callback);\n\n    if (root._bokeh_is_loading > 0) {\n      // Don't load bokeh if it is still initializing\n      console.debug(\"Bokeh: BokehJS is being loaded, scheduling callback at\", now());\n      return null;\n    } else if (js_urls.length === 0 && js_modules.length === 0 && Object.keys(js_exports).length === 0) {\n      // There is nothing to load\n      run_callbacks();\n      return null;\n    }\n\n    function on_load() {\n      root._bokeh_is_loading--;\n      if (root._bokeh_is_loading === 0) {\n        console.debug(\"Bokeh: all BokehJS libraries/stylesheets loaded\");\n        run_callbacks()\n      }\n    }\n    window._bokeh_on_load = on_load\n\n    function on_error(e) {\n      const src_el = e.srcElement\n      console.error(\"failed to load \" + (src_el.href || src_el.src));\n    }\n\n    const skip = [];\n    if (window.requirejs) {\n      window.requirejs.config({'packages': {}, 'paths': {'plotly': 'https://cdn.plot.ly/plotly-3.0.1.min'}, 'shim': {}});\n      require([\"plotly\"], function(Plotly) {\n        window.Plotly = Plotly\n        on_load()\n      })\n      root._bokeh_is_loading = css_urls.length + 1;\n    } else {\n      root._bokeh_is_loading = css_urls.length + js_urls.length + js_modules.length + Object.keys(js_exports).length;\n    }\n\n    const existing_stylesheets = []\n    const links = document.getElementsByTagName('link')\n    for (let i = 0; i < links.length; i++) {\n      const link = links[i]\n      if (link.href != null) {\n        existing_stylesheets.push(link.href)\n      }\n    }\n    for (let i = 0; i < css_urls.length; i++) {\n      const url = css_urls[i];\n      const escaped = encodeURI(url)\n      if (existing_stylesheets.indexOf(escaped) !== -1) {\n        on_load()\n        continue;\n      }\n      const element = document.createElement(\"link\");\n      element.onload = on_load;\n      element.onerror = on_error;\n      element.rel = \"stylesheet\";\n      element.type = \"text/css\";\n      element.href = url;\n      console.debug(\"Bokeh: injecting link tag for BokehJS stylesheet: \", url);\n      document.body.appendChild(element);\n    }    if (((window.Plotly !== undefined) && (!(window.Plotly instanceof HTMLElement))) || window.requirejs) {\n      var urls = [];\n      for (var i = 0; i < urls.length; i++) {\n        skip.push(encodeURI(urls[i]))\n      }\n    }    var existing_scripts = []\n    const scripts = document.getElementsByTagName('script')\n    for (let i = 0; i < scripts.length; i++) {\n      var script = scripts[i]\n      if (script.src != null) {\n        existing_scripts.push(script.src)\n      }\n    }\n    for (let i = 0; i < js_urls.length; i++) {\n      const url = js_urls[i];\n      const escaped = encodeURI(url)\n      if (skip.indexOf(escaped) !== -1 || existing_scripts.indexOf(escaped) !== -1) {\n        if (!window.requirejs) {\n          on_load();\n        }\n        continue;\n      }\n      const element = document.createElement('script');\n      element.onload = on_load;\n      element.onerror = on_error;\n      element.async = false;\n      element.src = url;\n      console.debug(\"Bokeh: injecting script tag for BokehJS library: \", url);\n      document.head.appendChild(element);\n    }\n    for (let i = 0; i < js_modules.length; i++) {\n      const url = js_modules[i];\n      const escaped = encodeURI(url)\n      if (skip.indexOf(escaped) !== -1 || existing_scripts.indexOf(escaped) !== -1) {\n        if (!window.requirejs) {\n          on_load();\n        }\n        continue;\n      }\n      var element = document.createElement('script');\n      element.onload = on_load;\n      element.onerror = on_error;\n      element.async = false;\n      element.src = url;\n      element.type = \"module\";\n      console.debug(\"Bokeh: injecting script tag for BokehJS library: \", url);\n      document.head.appendChild(element);\n    }\n    for (const name in js_exports) {\n      const url = js_exports[name];\n      const escaped = encodeURI(url)\n      if (skip.indexOf(escaped) >= 0 || root[name] != null) {\n        if (!window.requirejs) {\n          on_load();\n        }\n        continue;\n      }\n      var element = document.createElement('script');\n      element.onerror = on_error;\n      element.async = false;\n      element.type = \"module\";\n      console.debug(\"Bokeh: injecting script tag for BokehJS library: \", url);\n      element.textContent = `\n      import ${name} from \"${url}\"\n      window.${name} = ${name}\n      window._bokeh_on_load()\n      `\n      document.head.appendChild(element);\n    }\n    if (!js_urls.length && !js_modules.length) {\n      on_load()\n    }\n  };\n\n  function inject_raw_css(css) {\n    const element = document.createElement(\"style\");\n    element.appendChild(document.createTextNode(css));\n    document.body.appendChild(element);\n  }\n\n  const js_urls = [\"https://cdn.holoviz.org/panel/1.6.3/dist/bundled/reactiveesm/es-module-shims@^1.10.0/dist/es-module-shims.min.js\", \"https://cdn.holoviz.org/panel/1.6.3/dist/bundled/plotlyplot/plotly-3.0.1.min.js\", \"https://cdn.bokeh.org/bokeh/release/bokeh-3.7.2.min.js\", \"https://cdn.bokeh.org/bokeh/release/bokeh-gl-3.7.2.min.js\", \"https://cdn.bokeh.org/bokeh/release/bokeh-widgets-3.7.2.min.js\", \"https://cdn.bokeh.org/bokeh/release/bokeh-tables-3.7.2.min.js\", \"https://cdn.holoviz.org/panel/1.6.3/dist/panel.min.js\"];\n  const js_modules = [];\n  const js_exports = {};\n  const css_urls = [\"https://cdn.holoviz.org/panel/1.6.3/dist/bundled/plotlyplot/maplibre-gl@4.4.1/dist/maplibre-gl.css?v=1.6.3\"];\n  const inline_js = [    function(Bokeh) {\n      Bokeh.set_log_level(\"info\");\n    },\nfunction(Bokeh) {} // ensure no trailing comma for IE\n  ];\n\n  function run_inline_js() {\n    if ((root.Bokeh !== undefined) || (force === true)) {\n      for (let i = 0; i < inline_js.length; i++) {\n        try {\n          inline_js[i].call(root, root.Bokeh);\n        } catch(e) {\n          if (!reloading) {\n            throw e;\n          }\n        }\n      }\n      // Cache old bokeh versions\n      if (Bokeh != undefined && !reloading) {\n        var NewBokeh = root.Bokeh;\n        if (Bokeh.versions === undefined) {\n          Bokeh.versions = new Map();\n        }\n        if (NewBokeh.version !== Bokeh.version) {\n          Bokeh.versions.set(NewBokeh.version, NewBokeh)\n        }\n        root.Bokeh = Bokeh;\n      }\n    } else if (Date.now() < root._bokeh_timeout) {\n      setTimeout(run_inline_js, 100);\n    } else if (!root._bokeh_failed_load) {\n      console.log(\"Bokeh: BokehJS failed to load within specified timeout.\");\n      root._bokeh_failed_load = true;\n    }\n    root._bokeh_is_initializing = false\n  }\n\n  function load_or_wait() {\n    // Implement a backoff loop that tries to ensure we do not load multiple\n    // versions of Bokeh and its dependencies at the same time.\n    // In recent versions we use the root._bokeh_is_initializing flag\n    // to determine whether there is an ongoing attempt to initialize\n    // bokeh, however for backward compatibility we also try to ensure\n    // that we do not start loading a newer (Panel>=1.0 and Bokeh>3) version\n    // before older versions are fully initialized.\n    if (root._bokeh_is_initializing && Date.now() > root._bokeh_timeout) {\n      // If the timeout and bokeh was not successfully loaded we reset\n      // everything and try loading again\n      root._bokeh_timeout = Date.now() + 5000;\n      root._bokeh_is_initializing = false;\n      root._bokeh_onload_callbacks = undefined;\n      root._bokeh_is_loading = 0\n      console.log(\"Bokeh: BokehJS was loaded multiple times but one version failed to initialize.\");\n      load_or_wait();\n    } else if (root._bokeh_is_initializing || (typeof root._bokeh_is_initializing === \"undefined\" && root._bokeh_onload_callbacks !== undefined)) {\n      setTimeout(load_or_wait, 100);\n    } else {\n      root._bokeh_is_initializing = true\n      root._bokeh_onload_callbacks = []\n      const bokeh_loaded = root.Bokeh != null && (root.Bokeh.version === py_version || (root.Bokeh.versions !== undefined && root.Bokeh.versions.has(py_version)));\n      if (!reloading && !bokeh_loaded) {\n        if (root.Bokeh) {\n          root.Bokeh = undefined;\n        }\n        console.debug(\"Bokeh: BokehJS not loaded, scheduling load and callback at\", now());\n      }\n      load_libs(css_urls, js_urls, js_modules, js_exports, function() {\n        console.debug(\"Bokeh: BokehJS plotting callback run at\", now());\n        run_inline_js();\n      });\n    }\n  }\n  // Give older versions of the autoload script a head-start to ensure\n  // they initialize before we start loading newer version.\n  setTimeout(load_or_wait, 100)\n}(window));",
      "application/vnd.holoviews_load.v0+json": ""
     },
     "metadata": {},
     "output_type": "display_data"
    },
    {
     "data": {
      "application/javascript": "\nif ((window.PyViz === undefined) || (window.PyViz instanceof HTMLElement)) {\n  window.PyViz = {comms: {}, comm_status:{}, kernels:{}, receivers: {}, plot_index: []}\n}\n\n\n    function JupyterCommManager() {\n    }\n\n    JupyterCommManager.prototype.register_target = function(plot_id, comm_id, msg_handler) {\n      if (window.comm_manager || ((window.Jupyter !== undefined) && (Jupyter.notebook.kernel != null))) {\n        var comm_manager = window.comm_manager || Jupyter.notebook.kernel.comm_manager;\n        comm_manager.register_target(comm_id, function(comm) {\n          comm.on_msg(msg_handler);\n        });\n      } else if ((plot_id in window.PyViz.kernels) && (window.PyViz.kernels[plot_id])) {\n        window.PyViz.kernels[plot_id].registerCommTarget(comm_id, function(comm) {\n          comm.onMsg = msg_handler;\n        });\n      } else if (typeof google != 'undefined' && google.colab.kernel != null) {\n        google.colab.kernel.comms.registerTarget(comm_id, (comm) => {\n          var messages = comm.messages[Symbol.asyncIterator]();\n          function processIteratorResult(result) {\n            var message = result.value;\n            console.log(message)\n            var content = {data: message.data, comm_id};\n            var buffers = []\n            for (var buffer of message.buffers || []) {\n              buffers.push(new DataView(buffer))\n            }\n            var metadata = message.metadata || {};\n            var msg = {content, buffers, metadata}\n            msg_handler(msg);\n            return messages.next().then(processIteratorResult);\n          }\n          return messages.next().then(processIteratorResult);\n        })\n      }\n    }\n\n    JupyterCommManager.prototype.get_client_comm = function(plot_id, comm_id, msg_handler) {\n      if (comm_id in window.PyViz.comms) {\n        return window.PyViz.comms[comm_id];\n      } else if (window.comm_manager || ((window.Jupyter !== undefined) && (Jupyter.notebook.kernel != null))) {\n        var comm_manager = window.comm_manager || Jupyter.notebook.kernel.comm_manager;\n        var comm = comm_manager.new_comm(comm_id, {}, {}, {}, comm_id);\n        if (msg_handler) {\n          comm.on_msg(msg_handler);\n        }\n      } else if ((plot_id in window.PyViz.kernels) && (window.PyViz.kernels[plot_id])) {\n        var comm = window.PyViz.kernels[plot_id].connectToComm(comm_id);\n        comm.open();\n        if (msg_handler) {\n          comm.onMsg = msg_handler;\n        }\n      } else if (typeof google != 'undefined' && google.colab.kernel != null) {\n        var comm_promise = google.colab.kernel.comms.open(comm_id)\n        comm_promise.then((comm) => {\n          window.PyViz.comms[comm_id] = comm;\n          if (msg_handler) {\n            var messages = comm.messages[Symbol.asyncIterator]();\n            function processIteratorResult(result) {\n              var message = result.value;\n              var content = {data: message.data};\n              var metadata = message.metadata || {comm_id};\n              var msg = {content, metadata}\n              msg_handler(msg);\n              return messages.next().then(processIteratorResult);\n            }\n            return messages.next().then(processIteratorResult);\n          }\n        })\n        var sendClosure = (data, metadata, buffers, disposeOnDone) => {\n          return comm_promise.then((comm) => {\n            comm.send(data, metadata, buffers, disposeOnDone);\n          });\n        };\n        var comm = {\n          send: sendClosure\n        };\n      }\n      window.PyViz.comms[comm_id] = comm;\n      return comm;\n    }\n    window.PyViz.comm_manager = new JupyterCommManager();\n    \n\n\nvar JS_MIME_TYPE = 'application/javascript';\nvar HTML_MIME_TYPE = 'text/html';\nvar EXEC_MIME_TYPE = 'application/vnd.holoviews_exec.v0+json';\nvar CLASS_NAME = 'output';\n\n/**\n * Render data to the DOM node\n */\nfunction render(props, node) {\n  var div = document.createElement(\"div\");\n  var script = document.createElement(\"script\");\n  node.appendChild(div);\n  node.appendChild(script);\n}\n\n/**\n * Handle when a new output is added\n */\nfunction handle_add_output(event, handle) {\n  var output_area = handle.output_area;\n  var output = handle.output;\n  if ((output.data == undefined) || (!output.data.hasOwnProperty(EXEC_MIME_TYPE))) {\n    return\n  }\n  var id = output.metadata[EXEC_MIME_TYPE][\"id\"];\n  var toinsert = output_area.element.find(\".\" + CLASS_NAME.split(' ')[0]);\n  if (id !== undefined) {\n    var nchildren = toinsert.length;\n    var html_node = toinsert[nchildren-1].children[0];\n    html_node.innerHTML = output.data[HTML_MIME_TYPE];\n    var scripts = [];\n    var nodelist = html_node.querySelectorAll(\"script\");\n    for (var i in nodelist) {\n      if (nodelist.hasOwnProperty(i)) {\n        scripts.push(nodelist[i])\n      }\n    }\n\n    scripts.forEach( function (oldScript) {\n      var newScript = document.createElement(\"script\");\n      var attrs = [];\n      var nodemap = oldScript.attributes;\n      for (var j in nodemap) {\n        if (nodemap.hasOwnProperty(j)) {\n          attrs.push(nodemap[j])\n        }\n      }\n      attrs.forEach(function(attr) { newScript.setAttribute(attr.name, attr.value) });\n      newScript.appendChild(document.createTextNode(oldScript.innerHTML));\n      oldScript.parentNode.replaceChild(newScript, oldScript);\n    });\n    if (JS_MIME_TYPE in output.data) {\n      toinsert[nchildren-1].children[1].textContent = output.data[JS_MIME_TYPE];\n    }\n    output_area._hv_plot_id = id;\n    if ((window.Bokeh !== undefined) && (id in Bokeh.index)) {\n      window.PyViz.plot_index[id] = Bokeh.index[id];\n    } else {\n      window.PyViz.plot_index[id] = null;\n    }\n  } else if (output.metadata[EXEC_MIME_TYPE][\"server_id\"] !== undefined) {\n    var bk_div = document.createElement(\"div\");\n    bk_div.innerHTML = output.data[HTML_MIME_TYPE];\n    var script_attrs = bk_div.children[0].attributes;\n    for (var i = 0; i < script_attrs.length; i++) {\n      toinsert[toinsert.length - 1].childNodes[1].setAttribute(script_attrs[i].name, script_attrs[i].value);\n    }\n    // store reference to server id on output_area\n    output_area._bokeh_server_id = output.metadata[EXEC_MIME_TYPE][\"server_id\"];\n  }\n}\n\n/**\n * Handle when an output is cleared or removed\n */\nfunction handle_clear_output(event, handle) {\n  var id = handle.cell.output_area._hv_plot_id;\n  var server_id = handle.cell.output_area._bokeh_server_id;\n  if (((id === undefined) || !(id in PyViz.plot_index)) && (server_id !== undefined)) { return; }\n  var comm = window.PyViz.comm_manager.get_client_comm(\"hv-extension-comm\", \"hv-extension-comm\", function () {});\n  if (server_id !== null) {\n    comm.send({event_type: 'server_delete', 'id': server_id});\n    return;\n  } else if (comm !== null) {\n    comm.send({event_type: 'delete', 'id': id});\n  }\n  delete PyViz.plot_index[id];\n  if ((window.Bokeh !== undefined) & (id in window.Bokeh.index)) {\n    var doc = window.Bokeh.index[id].model.document\n    doc.clear();\n    const i = window.Bokeh.documents.indexOf(doc);\n    if (i > -1) {\n      window.Bokeh.documents.splice(i, 1);\n    }\n  }\n}\n\n/**\n * Handle kernel restart event\n */\nfunction handle_kernel_cleanup(event, handle) {\n  delete PyViz.comms[\"hv-extension-comm\"];\n  window.PyViz.plot_index = {}\n}\n\n/**\n * Handle update_display_data messages\n */\nfunction handle_update_output(event, handle) {\n  handle_clear_output(event, {cell: {output_area: handle.output_area}})\n  handle_add_output(event, handle)\n}\n\nfunction register_renderer(events, OutputArea) {\n  function append_mime(data, metadata, element) {\n    // create a DOM node to render to\n    var toinsert = this.create_output_subarea(\n    metadata,\n    CLASS_NAME,\n    EXEC_MIME_TYPE\n    );\n    this.keyboard_manager.register_events(toinsert);\n    // Render to node\n    var props = {data: data, metadata: metadata[EXEC_MIME_TYPE]};\n    render(props, toinsert[0]);\n    element.append(toinsert);\n    return toinsert\n  }\n\n  events.on('output_added.OutputArea', handle_add_output);\n  events.on('output_updated.OutputArea', handle_update_output);\n  events.on('clear_output.CodeCell', handle_clear_output);\n  events.on('delete.Cell', handle_clear_output);\n  events.on('kernel_ready.Kernel', handle_kernel_cleanup);\n\n  OutputArea.prototype.register_mime_type(EXEC_MIME_TYPE, append_mime, {\n    safe: true,\n    index: 0\n  });\n}\n\nif (window.Jupyter !== undefined) {\n  try {\n    var events = require('base/js/events');\n    var OutputArea = require('notebook/js/outputarea').OutputArea;\n    if (OutputArea.prototype.mime_types().indexOf(EXEC_MIME_TYPE) == -1) {\n      register_renderer(events, OutputArea);\n    }\n  } catch(err) {\n  }\n}\n",
      "application/vnd.holoviews_load.v0+json": ""
     },
     "metadata": {},
     "output_type": "display_data"
    },
    {
     "data": {
      "application/vnd.holoviews_exec.v0+json": "",
      "text/html": [
       "<div id='b27165d5-3ac5-415b-86b4-02481e297f42'>\n",
       "  <div id=\"e4167043-a42f-4522-9771-4bb0249e3be6\" data-root-id=\"b27165d5-3ac5-415b-86b4-02481e297f42\" style=\"display: contents;\"></div>\n",
       "</div>\n",
       "<script type=\"application/javascript\">(function(root) {\n",
       "  var docs_json = {\"4400068e-f059-4973-aae3-ae0a94aecd66\":{\"version\":\"3.7.2\",\"title\":\"Bokeh Application\",\"roots\":[{\"type\":\"object\",\"name\":\"panel.models.browser.BrowserInfo\",\"id\":\"b27165d5-3ac5-415b-86b4-02481e297f42\"},{\"type\":\"object\",\"name\":\"panel.models.comm_manager.CommManager\",\"id\":\"f842fd87-b9d2-401e-8310-426dd27a029e\",\"attributes\":{\"plot_id\":\"b27165d5-3ac5-415b-86b4-02481e297f42\",\"comm_id\":\"eec4932971a245f7bdaf513cb5c3bee7\",\"client_comm_id\":\"dfe8c840d8364ccba33378c8556e7a8c\"}}],\"defs\":[{\"type\":\"model\",\"name\":\"ReactiveHTML1\"},{\"type\":\"model\",\"name\":\"FlexBox1\",\"properties\":[{\"name\":\"align_content\",\"kind\":\"Any\",\"default\":\"flex-start\"},{\"name\":\"align_items\",\"kind\":\"Any\",\"default\":\"flex-start\"},{\"name\":\"flex_direction\",\"kind\":\"Any\",\"default\":\"row\"},{\"name\":\"flex_wrap\",\"kind\":\"Any\",\"default\":\"wrap\"},{\"name\":\"gap\",\"kind\":\"Any\",\"default\":\"\"},{\"name\":\"justify_content\",\"kind\":\"Any\",\"default\":\"flex-start\"}]},{\"type\":\"model\",\"name\":\"FloatPanel1\",\"properties\":[{\"name\":\"config\",\"kind\":\"Any\",\"default\":{\"type\":\"map\"}},{\"name\":\"contained\",\"kind\":\"Any\",\"default\":true},{\"name\":\"position\",\"kind\":\"Any\",\"default\":\"right-top\"},{\"name\":\"offsetx\",\"kind\":\"Any\",\"default\":null},{\"name\":\"offsety\",\"kind\":\"Any\",\"default\":null},{\"name\":\"theme\",\"kind\":\"Any\",\"default\":\"primary\"},{\"name\":\"status\",\"kind\":\"Any\",\"default\":\"normalized\"}]},{\"type\":\"model\",\"name\":\"GridStack1\",\"properties\":[{\"name\":\"ncols\",\"kind\":\"Any\",\"default\":null},{\"name\":\"nrows\",\"kind\":\"Any\",\"default\":null},{\"name\":\"allow_resize\",\"kind\":\"Any\",\"default\":true},{\"name\":\"allow_drag\",\"kind\":\"Any\",\"default\":true},{\"name\":\"state\",\"kind\":\"Any\",\"default\":[]}]},{\"type\":\"model\",\"name\":\"drag1\",\"properties\":[{\"name\":\"slider_width\",\"kind\":\"Any\",\"default\":5},{\"name\":\"slider_color\",\"kind\":\"Any\",\"default\":\"black\"},{\"name\":\"value\",\"kind\":\"Any\",\"default\":50}]},{\"type\":\"model\",\"name\":\"click1\",\"properties\":[{\"name\":\"terminal_output\",\"kind\":\"Any\",\"default\":\"\"},{\"name\":\"debug_name\",\"kind\":\"Any\",\"default\":\"\"},{\"name\":\"clears\",\"kind\":\"Any\",\"default\":0}]},{\"type\":\"model\",\"name\":\"FastWrapper1\",\"properties\":[{\"name\":\"object\",\"kind\":\"Any\",\"default\":null},{\"name\":\"style\",\"kind\":\"Any\",\"default\":null}]},{\"type\":\"model\",\"name\":\"NotificationArea1\",\"properties\":[{\"name\":\"js_events\",\"kind\":\"Any\",\"default\":{\"type\":\"map\"}},{\"name\":\"max_notifications\",\"kind\":\"Any\",\"default\":5},{\"name\":\"notifications\",\"kind\":\"Any\",\"default\":[]},{\"name\":\"position\",\"kind\":\"Any\",\"default\":\"bottom-right\"},{\"name\":\"_clear\",\"kind\":\"Any\",\"default\":0},{\"name\":\"types\",\"kind\":\"Any\",\"default\":[{\"type\":\"map\",\"entries\":[[\"type\",\"warning\"],[\"background\",\"#ffc107\"],[\"icon\",{\"type\":\"map\",\"entries\":[[\"className\",\"fas fa-exclamation-triangle\"],[\"tagName\",\"i\"],[\"color\",\"white\"]]}]]},{\"type\":\"map\",\"entries\":[[\"type\",\"info\"],[\"background\",\"#007bff\"],[\"icon\",{\"type\":\"map\",\"entries\":[[\"className\",\"fas fa-info-circle\"],[\"tagName\",\"i\"],[\"color\",\"white\"]]}]]}]}]},{\"type\":\"model\",\"name\":\"Notification\",\"properties\":[{\"name\":\"background\",\"kind\":\"Any\",\"default\":null},{\"name\":\"duration\",\"kind\":\"Any\",\"default\":3000},{\"name\":\"icon\",\"kind\":\"Any\",\"default\":null},{\"name\":\"message\",\"kind\":\"Any\",\"default\":\"\"},{\"name\":\"notification_type\",\"kind\":\"Any\",\"default\":null},{\"name\":\"_rendered\",\"kind\":\"Any\",\"default\":false},{\"name\":\"_destroyed\",\"kind\":\"Any\",\"default\":false}]},{\"type\":\"model\",\"name\":\"TemplateActions1\",\"properties\":[{\"name\":\"open_modal\",\"kind\":\"Any\",\"default\":0},{\"name\":\"close_modal\",\"kind\":\"Any\",\"default\":0}]},{\"type\":\"model\",\"name\":\"BootstrapTemplateActions1\",\"properties\":[{\"name\":\"open_modal\",\"kind\":\"Any\",\"default\":0},{\"name\":\"close_modal\",\"kind\":\"Any\",\"default\":0}]},{\"type\":\"model\",\"name\":\"TemplateEditor1\",\"properties\":[{\"name\":\"layout\",\"kind\":\"Any\",\"default\":[]}]},{\"type\":\"model\",\"name\":\"MaterialTemplateActions1\",\"properties\":[{\"name\":\"open_modal\",\"kind\":\"Any\",\"default\":0},{\"name\":\"close_modal\",\"kind\":\"Any\",\"default\":0}]},{\"type\":\"model\",\"name\":\"ReactiveESM1\",\"properties\":[{\"name\":\"esm_constants\",\"kind\":\"Any\",\"default\":{\"type\":\"map\"}}]},{\"type\":\"model\",\"name\":\"JSComponent1\",\"properties\":[{\"name\":\"esm_constants\",\"kind\":\"Any\",\"default\":{\"type\":\"map\"}}]},{\"type\":\"model\",\"name\":\"ReactComponent1\",\"properties\":[{\"name\":\"esm_constants\",\"kind\":\"Any\",\"default\":{\"type\":\"map\"}}]},{\"type\":\"model\",\"name\":\"AnyWidgetComponent1\",\"properties\":[{\"name\":\"esm_constants\",\"kind\":\"Any\",\"default\":{\"type\":\"map\"}}]},{\"type\":\"model\",\"name\":\"request_value1\",\"properties\":[{\"name\":\"fill\",\"kind\":\"Any\",\"default\":\"none\"},{\"name\":\"_synced\",\"kind\":\"Any\",\"default\":null},{\"name\":\"_request_sync\",\"kind\":\"Any\",\"default\":0}]}]}};\n",
       "  var render_items = [{\"docid\":\"4400068e-f059-4973-aae3-ae0a94aecd66\",\"roots\":{\"b27165d5-3ac5-415b-86b4-02481e297f42\":\"e4167043-a42f-4522-9771-4bb0249e3be6\"},\"root_ids\":[\"b27165d5-3ac5-415b-86b4-02481e297f42\"]}];\n",
       "  var docs = Object.values(docs_json)\n",
       "  if (!docs) {\n",
       "    return\n",
       "  }\n",
       "  const py_version = docs[0].version.replace('rc', '-rc.').replace('.dev', '-dev.')\n",
       "  async function embed_document(root) {\n",
       "    var Bokeh = get_bokeh(root)\n",
       "    await Bokeh.embed.embed_items_notebook(docs_json, render_items);\n",
       "    for (const render_item of render_items) {\n",
       "      for (const root_id of render_item.root_ids) {\n",
       "\tconst id_el = document.getElementById(root_id)\n",
       "\tif (id_el.children.length && id_el.children[0].hasAttribute('data-root-id')) {\n",
       "\t  const root_el = id_el.children[0]\n",
       "\t  root_el.id = root_el.id + '-rendered'\n",
       "\t  for (const child of root_el.children) {\n",
       "            // Ensure JupyterLab does not capture keyboard shortcuts\n",
       "            // see: https://jupyterlab.readthedocs.io/en/4.1.x/extension/notebook.html#keyboard-interaction-model\n",
       "\t    child.setAttribute('data-lm-suppress-shortcuts', 'true')\n",
       "\t  }\n",
       "\t}\n",
       "      }\n",
       "    }\n",
       "  }\n",
       "  function get_bokeh(root) {\n",
       "    if (root.Bokeh === undefined) {\n",
       "      return null\n",
       "    } else if (root.Bokeh.version !== py_version) {\n",
       "      if (root.Bokeh.versions === undefined || !root.Bokeh.versions.has(py_version)) {\n",
       "\treturn null\n",
       "      }\n",
       "      return root.Bokeh.versions.get(py_version);\n",
       "    } else if (root.Bokeh.version === py_version) {\n",
       "      return root.Bokeh\n",
       "    }\n",
       "    return null\n",
       "  }\n",
       "  function is_loaded(root) {\n",
       "    var Bokeh = get_bokeh(root)\n",
       "    return (Bokeh != null && Bokeh.Panel !== undefined && ( root.Plotly !== undefined) && ( root.Plotly !== undefined) && ( root.Plotly !== undefined))\n",
       "  }\n",
       "  if (is_loaded(root)) {\n",
       "    embed_document(root);\n",
       "  } else {\n",
       "    var attempts = 0;\n",
       "    var timer = setInterval(function(root) {\n",
       "      if (is_loaded(root)) {\n",
       "        clearInterval(timer);\n",
       "        embed_document(root);\n",
       "      } else if (document.readyState == \"complete\") {\n",
       "        attempts++;\n",
       "        if (attempts > 200) {\n",
       "          clearInterval(timer);\n",
       "\t  var Bokeh = get_bokeh(root)\n",
       "\t  if (Bokeh == null || Bokeh.Panel == null) {\n",
       "            console.warn(\"Panel: ERROR: Unable to run Panel code because Bokeh or Panel library is missing\");\n",
       "\t  } else {\n",
       "\t    console.warn(\"Panel: WARNING: Attempting to render but not all required libraries could be resolved.\")\n",
       "\t    embed_document(root)\n",
       "\t  }\n",
       "        }\n",
       "      }\n",
       "    }, 25, root)\n",
       "  }\n",
       "})(window);</script>"
      ]
     },
     "metadata": {
      "application/vnd.holoviews_exec.v0+json": {
       "id": "b27165d5-3ac5-415b-86b4-02481e297f42"
      }
     },
     "output_type": "display_data"
    }
   ],
   "source": [
    "import panel as pn\n",
    "import param\n",
    "import geopandas as gpd\n",
    "import pandas as pd\n",
    "import shapely.wkt\n",
    "import networkx as nx\n",
    "import plotly.graph_objects as go\n",
    "\n",
    "pn.extension('plotly')\n",
    "\n",
    "def safe_load_geometry(wkt_str):\n",
    "    try:\n",
    "        return shapely.wkt.loads(wkt_str)\n",
    "    except Exception:\n",
    "        return None\n",
    "\n",
    "class BusGraphPanel(param.Parameterized):\n",
    "    barrio = param.ObjectSelector(default=None, objects=[])\n",
    "\n",
    "    def __init__(self, **params):\n",
    "        super().__init__(**params)\n",
    "\n",
    "        # Cargar datos\n",
    "        self.barrios_gdf = gpd.read_file('data/barris.geojson')\n",
    "        bus_lines_df = pd.read_csv(\"data/linies_bus.csv\")\n",
    "        bus_lines_df[\"geometry\"] = bus_lines_df[\"GEOMETRY\"].apply(safe_load_geometry)\n",
    "        self.bus_lines_gdf = gpd.GeoDataFrame(bus_lines_df, geometry=\"geometry\", crs=\"EPSG:4326\")\n",
    "\n",
    "        # Crear grafo\n",
    "        self.G = nx.Graph()\n",
    "        for idx, row in self.barrios_gdf.iterrows():\n",
    "            self.G.add_node(row[\"NOM\"], geometry=row.geometry)\n",
    "\n",
    "        for line in self.bus_lines_gdf.itertuples():\n",
    "            if not line.geometry:\n",
    "                continue\n",
    "            touched_barrios = set()\n",
    "            for idx, barrio in self.barrios_gdf.iterrows():\n",
    "                if line.geometry.intersects(barrio.geometry):\n",
    "                    touched_barrios.add(barrio[\"NOM\"])\n",
    "            touched_barrios = list(touched_barrios)\n",
    "            for i in range(len(touched_barrios)):\n",
    "                for j in range(i + 1, len(touched_barrios)):\n",
    "                    b1, b2 = touched_barrios[i], touched_barrios[j]\n",
    "                    if self.G.has_edge(b1, b2):\n",
    "                        self.G[b1][b2][\"weight\"] += 1\n",
    "                    else:\n",
    "                        self.G.add_edge(b1, b2, weight=1)\n",
    "\n",
    "        # Posiciones\n",
    "        self.pos = {node: (geom.centroid.x, geom.centroid.y)\n",
    "                    for node, geom in nx.get_node_attributes(self.G, 'geometry').items()}\n",
    "        nx.set_node_attributes(self.G, self.pos, 'pos')\n",
    "\n",
    "        self.node_data = [{'id': n, 'x': x, 'y': y} for n, (x, y) in self.pos.items()]\n",
    "        self.param.barrio.objects = [n['id'] for n in self.node_data]\n",
    "\n",
    "    @param.depends('barrio')\n",
    "    def view(self):\n",
    "        edge_traces = []\n",
    "        for u, v, data in self.G.edges(data=True):\n",
    "            x0, y0 = self.G.nodes[u]['pos']\n",
    "            x1, y1 = self.G.nodes[v]['pos']\n",
    "            edge_traces.append(go.Scatter(\n",
    "                x=[x0, x1, None],\n",
    "                y=[y0, y1, None],\n",
    "                line=dict(width=data['weight'],\n",
    "                          color='red' if self.barrio in (u, v) else 'lightgray'),\n",
    "                mode='lines',\n",
    "                opacity=1.0 if self.barrio in (u, v) else 0.2,\n",
    "                hoverinfo='text',\n",
    "                text=[f\"{u} ↔ {v}: {data['weight']} líneas\"] * 3,\n",
    "                showlegend=False\n",
    "            ))\n",
    "\n",
    "        node_trace = go.Scatter(\n",
    "            x=[n['x'] for n in self.node_data],\n",
    "            y=[n['y'] for n in self.node_data],\n",
    "            mode='markers+text',\n",
    "            text=[n['id'] for n in self.node_data],\n",
    "            textposition=\"top center\",\n",
    "            hoverinfo='text',\n",
    "            marker=dict(size=10, color=[\n",
    "                'orange' if n['id'] == self.barrio else 'skyblue' for n in self.node_data\n",
    "            ], line_width=2),\n",
    "            showlegend=False\n",
    "        )\n",
    "\n",
    "        fig = go.Figure(data=edge_traces + [node_trace])\n",
    "        fig.update_layout(\n",
    "            title=\"Conexiones entre barrios por líneas de bus\",\n",
    "            margin=dict(b=20, l=5, r=5, t=40),\n",
    "            hovermode='closest',\n",
    "            xaxis=dict(showgrid=False, zeroline=False, showticklabels=False),\n",
    "            yaxis=dict(showgrid=False, zeroline=False, showticklabels=False),\n",
    "            width=700,      # fijo\n",
    "            height=450      # fijo\n",
    "        )\n",
    "\n",
    "        return pn.pane.Plotly(\n",
    "            fig,\n",
    "            config={'responsive': False}, \n",
    "            sizing_mode='fixed',\n",
    "            width=700,\n",
    "            height=450\n",
    "        )\n",
    "\n",
    "# Función para usar como tab en el dashboard\n",
    "def crear_tab_conexiones_bus():\n",
    "    app = BusGraphPanel()\n",
    "\n",
    "    # 1) Selector de barrio (ancho fijo, no compite por espacio)\n",
    "    controles = pn.WidgetBox(\n",
    "        pn.pane.Markdown(\"## Barrio\"),\n",
    "        app.param.barrio,\n",
    "        width=300,\n",
    "        sizing_mode='fixed'\n",
    "    )\n",
    "    controles.flex = 0\n",
    "\n",
    "    # 2) Pane reactivo: le pasamos la función, no su resultado\n",
    "    grafico_pane = pn.panel(\n",
    "        app.view,                # <- función @param.depends\n",
    "        sizing_mode='fixed',     # tamaño fijo para no variar\n",
    "        width=700,\n",
    "        height=450,\n",
    "        config={'responsive': False}\n",
    "    )\n",
    "    # Le decimos que siempre ocupe su 700px y reevalúe\n",
    "    grafico_pane.flex = 0\n",
    "\n",
    "    # 3) Fila con selector y gráfico\n",
    "    fila = pn.Row(\n",
    "        controles,\n",
    "        grafico_pane,\n",
    "        sizing_mode='stretch_width'\n",
    "    )\n",
    "\n",
    "    # 4) Columna contenedora de la pestaña\n",
    "    return pn.Column(\n",
    "        pn.pane.Markdown(\"## Conexiones entre barrios por líneas de bus\"),\n",
    "        fila,\n",
    "        sizing_mode='stretch_width'\n",
    "    )\n"
   ]
  },
  {
   "cell_type": "markdown",
   "id": "e5760af8",
   "metadata": {},
   "source": [
    "## Evolucion temporal desempleo"
   ]
  },
  {
   "cell_type": "code",
   "execution_count": 33,
   "id": "4ba2bacb",
   "metadata": {},
   "outputs": [
    {
     "data": {
      "application/vnd.jupyter.widget-view+json": {
       "model_id": "d2189b0440b94f9db017532ac313f131",
       "version_major": 2,
       "version_minor": 0
      },
      "text/plain": [
       "interactive(children=(SelectMultiple(description='Barrios', index=(46,), layout=Layout(width='50%'), options=(…"
      ]
     },
     "metadata": {},
     "output_type": "display_data"
    }
   ],
   "source": [
    "import pandas as pd\n",
    "import plotly.graph_objects as go\n",
    "from plotly.subplots import make_subplots\n",
    "import ipywidgets as widgets\n",
    "from IPython.display import display\n",
    "import plotly.express as px\n",
    "\n",
    "# Cargar datos\n",
    "df = pd.read_csv(\"data/unemployment.csv\")\n",
    "df[\"Date\"] = pd.to_datetime(df[\"Year\"].astype(str) + \"-\" + df[\"Month\"], format=\"%Y-%B\")\n",
    "\n",
    "# Agregar desempleo total por género, barrio y fecha\n",
    "agg_df = df.groupby([\"Date\", \"Neighborhood Name\", \"Gender\"])[\"Number\"].sum().reset_index()\n",
    "\n",
    "# Listado de barrios\n",
    "neighborhoods = sorted(agg_df[\"Neighborhood Name\"].unique().tolist())\n",
    "\n",
    "# Selector múltiple de barrios\n",
    "selector = widgets.SelectMultiple(\n",
    "    options=neighborhoods,\n",
    "    value=[\"el Raval\"],\n",
    "    description='Barrios',\n",
    "    rows=12,\n",
    "    layout=widgets.Layout(width='50%')\n",
    ")\n",
    "\n",
    "# Paleta de colores por barrio (usamos px.colors.qualitative.Plotly)\n",
    "palette = px.colors.qualitative.Plotly\n",
    "barrio_colors = {barrio: palette[i % len(palette)] for i, barrio in enumerate(neighborhoods)}\n",
    "\n",
    "# Función de graficado\n",
    "def plot_unemployment(selected_neighs):\n",
    "    fig = make_subplots(rows=1, cols=2, shared_yaxes=True,\n",
    "                        subplot_titles=(\"Desempleo Masculino\", \"Desempleo Femenino\"))\n",
    "\n",
    "    for barrio in selected_neighs:\n",
    "        color = barrio_colors[barrio]\n",
    "        male_series = agg_df[(agg_df[\"Neighborhood Name\"] == barrio) & (agg_df[\"Gender\"] == \"Male\")]\n",
    "        female_series = agg_df[(agg_df[\"Neighborhood Name\"] == barrio) & (agg_df[\"Gender\"] == \"Female\")]\n",
    "\n",
    "        fig.add_trace(\n",
    "            go.Scatter(x=male_series[\"Date\"], y=male_series[\"Number\"], name=barrio,\n",
    "                       mode='lines', line=dict(color=color)),\n",
    "            row=1, col=1\n",
    "        )\n",
    "        fig.add_trace(\n",
    "            go.Scatter(x=female_series[\"Date\"], y=female_series[\"Number\"], name=barrio,\n",
    "                       mode='lines', line=dict(color=color), showlegend=False),\n",
    "            row=1, col=2\n",
    "        )\n",
    "\n",
    "    fig.update_layout(height=500, width=1000, title_text=\"Evolución del desempleo por género\")\n",
    "    fig.update_xaxes(title_text=\"Fecha\", row=1, col=1)\n",
    "    fig.update_xaxes(title_text=\"Fecha\", row=1, col=2)\n",
    "    fig.update_yaxes(title_text=\"Número de desempleados\", row=1, col=1)\n",
    "\n",
    "    fig.show()\n",
    "\n",
    "# Conexión del widget con la función\n",
    "widgets.interact(plot_unemployment, selected_neighs=selector);\n"
   ]
  },
  {
   "cell_type": "markdown",
   "id": "8f233204",
   "metadata": {},
   "source": [
    "## Air Quality"
   ]
  },
  {
   "cell_type": "code",
   "execution_count": 41,
   "id": "25f6124a",
   "metadata": {},
   "outputs": [
    {
     "data": {
      "application/vnd.plotly.v1+json": {
       "config": {
        "plotlyServerURL": "https://plot.ly"
       },
       "data": [
        {
         "marker": {
          "color": "steelblue"
         },
         "name": "O3",
         "nbinsx": 30,
         "showlegend": false,
         "type": "histogram",
         "x": {
          "bdata": "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",
          "dtype": "f8"
         },
         "xaxis": "x",
         "yaxis": "y"
        },
        {
         "marker": {
          "color": "steelblue"
         },
         "name": "NO2",
         "nbinsx": 30,
         "showlegend": false,
         "type": "histogram",
         "x": {
          "bdata": "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",
          "dtype": "f8"
         },
         "xaxis": "x2",
         "yaxis": "y2"
        },
        {
         "marker": {
          "color": "steelblue"
         },
         "name": "PM10",
         "nbinsx": 30,
         "showlegend": false,
         "type": "histogram",
         "x": {
          "bdata": "AAAAAAAAQkAAAAAAAAA3QAAAAAAAAEBAAAAAAAAAOUAAAAAAAIBBQAAAAAAAADhAAAAAAAAAQEAAAAAAAAA5QAAAAAAAAEFAAAAAAAAAOEAAAAAAAABAQAAAAAAAADlAAAAAAACAQUAAAAAAAAA4QAAAAAAAAD9AAAAAAAAAOEAAAAAAAABBQAAAAAAAADdAAAAAAAAAPkAAAAAAAAA3QAAAAAAAgEBAAAAAAAAANUAAAAAAAAA7QAAAAAAAADJAAAAAAAAAO0AAAAAAAAAxQAAAAAAAADhAAAAAAAAAMkAAAAAAAAA5QAAAAAAAAC5AAAAAAAAANUAAAAAAAAAkQAAAAAAAADhAAAAAAAAAKkAAAAAAAAA0QAAAAAAAACBAAAAAAAAANUAAAAAAAAAoQAAAAAAAADJAAAAAAAAAIEAAAAAAAAA0QAAAAAAAACZAAAAAAAAAMUAAAAAAAAAYQAAAAAAAADNAAAAAAAAAKEAAAAAAAAAwQAAAAAAAABhAAAAAAAAAMkAAAAAAAAAmQAAAAAAAAC5AAAAAAAAAHEAAAAAAAAAyQAAAAAAAACZAAAAAAAAALEAAAAAAAAAYQAAAAAAAADFAAAAAAAAAJEAAAAAAAAAsQAAAAAAAABhAAAAAAAAAMEAAAAAAAAAkQAAAAAAAACZAAAAAAAAAGEAAAAAAAAAwQAAAAAAAACRAAAAAAAAAJEAAAAAAAAAYQAAAAAAAAC5AAAAAAAAAIkAAAAAAAAAiQAAAAAAAABhAAAAAAAAALEAAAAAAAAAiQAAAAAAAACBAAAAAAAAAGEAAAAAAAAAqQAAAAAAAACJAAAAAAAAAHEAAAAAAAAAYQAAAAAAAACpAAAAAAAAAIkAAAAAAAAAgQAAAAAAAABhAAAAAAAAAKEAAAAAAAAAgQAAAAAAAABxAAAAAAAAAGEAAAAAAAAAoQAAAAAAAACJAAAAAAAAAHEAAAAAAAAAYQAAAAAAAACpAAAAAAAAAIkAAAAAAAAAcQAAAAAAAABhAAAAAAAAAKkAAAAAAAAAiQAAAAAAAACBAAAAAAAAAHEAAAAAAAAAqQAAAAAAAACJAAAAAAAAAIEAAAAAAAAAcQAAAAAAAACxAAAAAAAAAIkAAAAAAAAAiQAAAAAAAABxAAAAAAAAALEAAAAAAAAAiQAAAAAAAACJAAAAAAAAAHEAAAAAAAAAsQAAAAAAAACJAAAAAAAAAIkAAAAAAAAAcQAAAAAAAAC5AAAAAAAAAIkAAAAAAAAAkQAAAAAAAABxAAAAAAAAALkAAAAAAAAAiQAAAAAAAACRAAAAAAAAAHEAAAAAAAAAuQAAAAAAAACJAAAAAAAAAJEAAAAAAAAAcQAAAAAAAAC5AAAAAAAAAIkAAAAAAAAAkQAAAAAAAABxAAAAAAAAALkAAAAAAAAAiQAAAAAAAACZAAAAAAAAAHEAAAAAAAAAuQAAAAAAAACJAAAAAAAAAJkAAAAAAAAAcQAAAAAAAAC5AAAAAAAAAIkAAAAAAAAAoQAAAAAAAABxAAAAAAAAAMEAAAAAAAAAiQAAAAAAAACpAAAAAAAAAHEAAAAAAAAAwQAAAAAAAACJAAAAAAAAAKkAAAAAAAAAcQAAAAAAAADFAAAAAAAAAJEAAAAAAAAAsQAAAAAAAABxAAAAAAAAAMUAAAAAAAAAkQAAAAAAAAC5AAAAAAAAAHEAAAAAAAAAxQAAAAAAAACRAAAAAAAAALkAAAAAAAAAcQAAAAAAAADFAAAAAAAAAJEAAAAAAAAAuQAAAAAAAABxAAAAAAAAAMUAAAAAAAAAkQAAAAAAAAC5AAAAAAAAAHEAAAAAAAAAxQAAAAAAAACRAAAAAAAAALkAAAAAAAAAcQAAAAAAAADFAAAAAAAAAJEAAAAAAAAAwQAAAAAAAABxAAAAAAAAAMUAAAAAAAAAkQAAAAAAAADBAAAAAAAAAHEAAAAAAAAAyQAAAAAAAACRAAAAAAAAAMEAAAAAAAAAcQAAAAAAAADJAAAAAAAAAJEAAAAAAAAAwQAAAAAAAABxAAAAAAAAAM0AAAAAAAAAkQAAAAAAAADFAAAAAAAAAHEAAAAAAAAAzQAAAAAAAACRAAAAAAAAAMUAAAAAAAAAcQAAAAAAAADNAAAAAAAAAJkAAAAAAAAAxQAAAAAAAACBAAAAAAAAANEAAAAAAAAAmQAAAAAAAADJAAAAAAAAAIEAAAAAAAAA0QAAAAAAAACZAAAAAAAAAMkAAAAAAAAAgQAAAAAAAADRAAAAAAAAAJkAAAAAAAAAyQAAAAAAAACJAAAAAAAAAM0AAAAAAAAAmQAAAAAAAADJAAAAAAAAAIkAAAAAAAAA0QAAAAAAAAABAAAAAAAAAJkAAAAAAAAAyQAAAAAAAACJAAAAAAAAAM0AAAAAAAAAAQAAAAAAAACZAAAAAAAAAMUAAAAAAAAAiQAAAAAAAADNAAAAAAAAAAEAAAAAAAAAmQAAAAAAAADFAAAAAAAAAIkAAAAAAAAAzQAAAAAAAAABAAAAAAAAAJkAAAAAAAAAwQAAAAAAAACJAAAAAAAAAMkAAAAAAAAAIQAAAAAAAACZAAAAAAAAALkAAAAAAAAAgQAAAAAAAADJAAAAAAAAACEAAAAAAAAAmQAAAAAAAAC5AAAAAAAAAIEAAAAAAAAAxQAAAAAAAAAhAAAAAAAAAJEAAAAAAAAAsQAAAAAAAACBAAAAAAAAAMUAAAAAAAAAIQAAAAAAAACRAAAAAAAAALEAAAAAAAAAgQAAAAAAAADFAAAAAAAAACEAAAAAAAAAkQAAAAAAAACxAAAAAAAAAIEAAAAAAAAAxQAAAAAAAAAhAAAAAAAAAJEAAAAAAAAAsQAAAAAAAACBAAAAAAAAAMUAAAAAAAAAIQAAAAAAAACRAAAAAAAAALEAAAAAAAAAgQAAAAAAAADFAAAAAAAAACEAAAAAAAAAkQAAAAAAAACxAAAAAAAAAIEAAAAAAAAAxQAAAAAAAAAhAAAAAAAAAJEAAAAAAAAAsQAAAAAAAABxAAAAAAAAAMEAAAAAAAAAIQAAAAAAAACRAAAAAAAAALEAAAAAAAAAcQAAAAAAAADBAAAAAAAAACEAAAAAAAAAiQAAAAAAAACxAAAAAAAAAGEAAAAAAAAAuQAAAAAAAAAhAAAAAAAAAJEAAAAAAAAAqQAAAAAAAABhAAAAAAAAALkAAAAAAAAAIQAAAAAAAACJAAAAAAAAAKkAAAAAAAAAYQAAAAAAAACxAAAAAAAAACEAAAAAAAAAiQAAAAAAAAChAAAAAAAAAGEAAAAAAAAAqQAAAAAAAAAhAAAAAAAAAIkAAAAAAAAAoQAAAAAAAABhAAAAAAAAAKkAAAAAAAAAIQAAAAAAAACJAAAAAAAAAJkAAAAAAAAAUQAAAAAAAACpAAAAAAAAACEAAAAAAAAAiQAAAAAAAACZAAAAAAAAAFEAAAAAAAAAqQAAAAAAAAAhAAAAAAAAAIkAAAAAAAAAmQAAAAAAAABRAAAAAAAAAKkAAAAAAAAAIQAAAAAAAACJAAAAAAAAAJkAAAAAAAAAYQAAAAAAAACxAAAAAAAAACEAAAAAAAAAkQAAAAAAAACZAAAAAAAAAGEAAAAAAAAAsQAAAAAAAAAhAAAAAAAAAJEAAAAAAAAAoQAAAAAAAABhAAAAAAAAALEAAAAAAAAAIQAAAAAAAACRAAAAAAAAAJkAAAAAAAAAYQAAAAAAAACxAAAAAAAAACEAAAAAAAAAkQAAAAAAAAChAAAAAAAAAHEAAAAAAAAAsQAAAAAAAAAhAAAAAAAAAJEAAAAAAAAAoQAAAAAAAABxAAAAAAAAALEAAAAAAAAAIQAAAAAAAACRAAAAAAAAAKEAAAAAAAAAcQAAAAAAAAC5AAAAAAAAACEAAAAAAAAAmQAAAAAAAAChAAAAAAAAAIEAAAAAAAAAuQAAAAAAAAAhAAAAAAAAAJkAAAAAAAAAqQAAAAAAAACBAAAAAAAAALkAAAAAAAAAIQAAAAAAAACZAAAAAAAAAKkAAAAAAAAAiQAAAAAAAACxAAAAAAAAAAEAAAAAAAAAoQAAAAAAAACpAAAAAAAAAIkAAAAAAAAAsQAAAAAAAAABAAAAAAAAAKkAAAAAAAAAsQAAAAAAAACRAAAAAAAAALkAAAAAAAAAAQAAAAAAAACpAAAAAAAAALkAAAAAAAAAkQAAAAAAAAC5AAAAAAAAAAEAAAAAAAAAqQAAAAAAAADBAAAAAAAAAJkAAAAAAAAAwQAAAAAAAAABAAAAAAAAAKkAAAAAAAAAwQAAAAAAAAChAAAAAAAAAMEAAAAAAAAAAQAAAAAAAACxAAAAAAAAAMEAAAAAAAAAoQAAAAAAAADBAAAAAAAAAAEAAAAAAAAAsQAAAAAAAADFAAAAAAAAAKkAAAAAAAAAxQAAAAAAAAABAAAAAAAAALkAAAAAAAAAyQAAAAAAAACpAAAAAAAAAMkAAAAAAAAAAQAAAAAAAADBAAAAAAAAAMkAAAAAAAAAsQAAAAAAAADNAAAAAAAAAAEAAAAAAAAAwQAAAAAAAADNAAAAAAAAALEAAAAAAAAA0QAAAAAAAAABAAAAAAAAAMUAAAAAAAAA0QAAAAAAAAC5AAAAAAAAANkAAAAAAAAAAQAAAAAAAADJAAAAAAAAANUAAAAAAAAAwQAAAAAAAADdAAAAAAAAAAEAAAAAAAAAyQAAAAAAAADZAAAAAAAAAMUAAAAAAAAA4QAAAAAAAAABAAAAAAAAAM0AAAAAAAAA2QAAAAAAAADFAAAAAAAAAOEAAAAAAAAAAQAAAAAAAADNAAAAAAAAAN0AAAAAAAAAyQAAAAAAAADlAAAAAAAAAAEAAAAAAAAA0QAAAAAAAADhAAAAAAAAAMkAAAAAAAAA6QAAAAAAAAAhAAAAAAAAANEAAAAAAAAA4QAAAAAAAADNAAAAAAAAAO0AAAAAAAAAIQAAAAAAAADVAAAAAAAAAOkAAAAAAAAAzQAAAAAAAAD1AAAAAAAAAEEAAAAAAAAA2QAAAAAAAADtAAAAAAAAAM0AAAAAAAABAQAAAAAAAABBAAAAAAAAAN0AAAAAAAAA+QAAAAAAAADNAAAAAAAAAQEAAAAAAAAA3QAAAAAAAAEBAAAAAAAAAM0AAAAAAAIBAQAAAAAAAADdAAAAAAAAAQEAAAAAAAAAzQAAAAAAAgEBAAAAAAAAAN0AAAAAAAABAQAAAAAAAADJAAAAAAAAAQUAAAAAAAAA3QAAAAAAAAEBAAAAAAAAAMkAAAAAAAABBQAAAAAAAADdAAAAAAAAAQEAAAAAAAAAzQAAAAAAAgEBAAAAAAAAAN0AAAAAAAAA+QAAAAAAAADNAAAAAAAAAQUAAAAAAAAA3QAAAAAAAAD5AAAAAAAAAM0AAAAAAAIBAQAAAAAAAADZAAAAAAAAAPUAAAAAAAAAzQAAAAAAAAEFAAAAAAAAAN0AAAAAAAAA9QAAAAAAAADNAAAAAAAAAQUAAAAAAAAA3QAAAAAAAAD1AAAAAAAAAM0AAAAAAAIBAQAAAAAAAADZAAAAAAAAAPUAAAAAAAAAzQAAAAAAAAEBAAAAAAAAANUAAAAAAAAA8QAAAAAAAADNAAAAAAAAAP0AAAAAAAAA1QAAAAAAAADtAAAAAAAAAM0AAAAAAAAA9QAAAAAAAADRAAAAAAAAAOkAAAAAAAAAyQAAAAAAAAD1AAAAAAAAAM0AAAAAAAAA5QAAAAAAAADJAAAAAAAAAPEAAAAAAAAAzQAAAAAAAADlAAAAAAAAAMEAAAAAAAAA7QAAAAAAAADJAAAAAAAAAOEAAAAAAAAAwQAAAAAAAADtAAAAAAAAAMUAAAAAAAAA3QAAAAAAAADBAAAAAAAAAOkAAAAAAAAAsQAAAAAAAADBAAAAAAAAANkAAAAAAAAAuQAAAAAAAADlAAAAAAAAAKkAAAAAAAAAwQAAAAAAAADVAAAAAAAAALEAAAAAAAAA3QAAAAAAAACpAAAAAAAAALkAAAAAAAAA0QAAAAAAAACxAAAAAAAAANkAAAAAAAAAoQAAAAAAAACxAAAAAAAAAM0AAAAAAAAAqQAAAAAAAADRAAAAAAAAAKEAAAAAAAAAqQAAAAAAAADFAAAAAAAAAKkAAAAAAAAAzQAAAAAAAAChAAAAAAAAAKEAAAAAAAAAuQAAAAAAAAChAAAAAAAAAMkAAAAAAAAAoQAAAAAAAAC5AAAAAAAAAKkAAAAAAAAAoQAAAAAAAADFAAAAAAAAAKEAAAAAAAAAuQAAAAAAAACpAAAAAAAAAJkAAAAAAAAAwQAAAAAAAACZAAAAAAAAALkAAAAAAAAAmQAAAAAAAACZAAAAAAAAALkAAAAAAAAAmQAAAAAAAAC5AAAAAAAAAJkAAAAAAAAAmQAAAAAAAACxAAAAAAAAAJEAAAAAAAAAsQAAAAAAAACZAAAAAAAAAJEAAAAAAAAAsQAAAAAAAACRAAAAAAAAALEAAAAAAAAAkQAAAAAAAACJAAAAAAAAAKkAAAAAAAAAkQAAAAAAAACxAAAAAAAAAJEAAAAAAAAAgQAAAAAAAACpAAAAAAAAAJEAAAAAAAAAsQAAAAAAAACZAAAAAAAAAIEAAAAAAAAAoQAAAAAAAACRAAAAAAAAAKkAAAAAAAAAkQAAAAAAAABxAAAAAAAAAKEAAAAAAAAAiQAAAAAAAAChAAAAAAAAAIkAAAAAAAAAcQAAAAAAAAChAAAAAAAAAIEAAAAAAAAAoQAAAAAAAACJAAAAAAAAAGEAAAAAAAAAoQAAAAAAAACBAAAAAAAAAKEAAAAAAAAAiQAAAAAAAABhAAAAAAAAAJkAAAAAAAAAgQAAAAAAAAChAAAAAAAAAIkAAAAAAAAAYQAAAAAAAACZAAAAAAAAAIEAAAAAAAAAoQAAAAAAAACJAAAAAAAAAGEAAAAAAAAAmQAAAAAAAACBAAAAAAAAAKEAAAAAAAAAiQAAAAAAAABhAAAAAAAAAJkAAAAAAAAAgQAAAAAAAACZAAAAAAAAAIkAAAAAAAAAUQAAAAAAAACZAAAAAAAAAHEAAAAAAAAAmQAAAAAAAACJAAAAAAAAAFEAAAAAAAAAmQAAAAAAAACBAAAAAAAAAJkAAAAAAAAAgQAAAAAAAABRAAAAAAAAAJkAAAAAAAAAgQAAAAAAAACZAAAAAAAAAIkAAAAAAAAAUQAAAAAAAACZAAAAAAAAAIEAAAAAAAAAmQAAAAAAAACJAAAAAAAAAFEAAAAAAAAAoQAAAAAAAACBAAAAAAAAAJkAAAAAAAAAkQAAAAAAAABRAAAAAAAAAKkAAAAAAAAAgQAAAAAAAABxAAAAAAAAAJEAAAAAAAAAUQAAAAAAAACxAAAAAAAAAIkAAAAAAAAAcQAAAAAAAAChAAAAAAAAAFEAAAAAAAAAuQAAAAAAAACBAAAAAAAAAHEAAAAAAAAAsQAAAAAAAABRAAAAAAAAAMEAAAAAAAAAgQAAAAAAAABxAAAAAAAAALEAAAAAAAAAUQAAAAAAAADBAAAAAAAAAHEAAAAAAAAAcQAAAAAAAACxAAAAAAAAAFEAAAAAAAAAwQAAAAAAAABxAAAAAAAAAHEAAAAAAAAAuQAAAAAAAABRAAAAAAAAAMUAAAAAAAAAgQAAAAAAAACBAAAAAAAAALkAAAAAAAAAYQAAAAAAAADFAAAAAAAAAIEAAAAAAAAAgQAAAAAAAADBAAAAAAAAAGEAAAAAAAAAyQAAAAAAAACBAAAAAAAAAIEAAAAAAAAAwQAAAAAAAABxAAAAAAAAAMkAAAAAAAAAiQAAAAAAAACJAAAAAAAAAMUAAAAAAAAAcQAAAAAAAADNAAAAAAAAAIkAAAAAAAAAiQAAAAAAAADFAAAAAAAAAHEAAAAAAAAA0QAAAAAAAACJAAAAAAAAAIkAAAAAAAAAyQAAAAAAAABxAAAAAAAAANEAAAAAAAAAiQAAAAAAAACRAAAAAAAAAMkAAAAAAAAAgQAAAAAAAADVAAAAAAAAAIkAAAAAAAAAkQAAAAAAAADJAAAAAAAAAIEAAAAAAAAA1QAAAAAAAACJAAAAAAAAAJkAAAAAAAAAzQAAAAAAAACBAAAAAAAAANkAAAAAAAAAiQAAAAAAAACZAAAAAAAAANEAAAAAAAAAgQAAAAAAAADdAAAAAAAAAIkAAAAAAAAAmQAAAAAAAADRAAAAAAAAAIkAAAAAAAAA3QAAAAAAAACJAAAAAAAAAKEAAAAAAAAA1QAAAAAAAACJAAAAAAAAAN0AAAAAAAAAiQAAAAAAAAChAAAAAAAAANUAAAAAAAAAiQAAAAAAAADdAAAAAAAAAIkAAAAAAAAAoQAAAAAAAADVAAAAAAAAAIkAAAAAAAAA3QAAAAAAAACRAAAAAAAAAKEAAAAAAAAA2QAAAAAAAACJAAAAAAAAAN0AAAAAAAAAkQAAAAAAAAChAAAAAAAAANkAAAAAAAAAiQAAAAAAAADdAAAAAAAAAJEAAAAAAAAAqQAAAAAAAADZAAAAAAAAAJEAAAAAAAAA2QAAAAAAAACJAAAAAAAAAKkAAAAAAAAA2QAAAAAAAACJAAAAAAAAANUAAAAAAAAAkQAAAAAAAAChAAAAAAAAANkAAAAAAAAAkQAAAAAAAADVAAAAAAAAAJEAAAAAAAAAoQAAAAAAAADRAAAAAAAAAJEAAAAAAAAA1QAAAAAAAACRAAAAAAAAAKkAAAAAAAAA2QAAAAAAAACRAAAAAAAAANkAAAAAAAAAkQAAAAAAAACpAAAAAAAAAN0AAAAAAAAAkQAAAAAAAADdAAAAAAAAAJkAAAAAAAAAsQAAAAAAAADlAAAAAAAAAJEAAAAAAAAA3QAAAAAAAACZAAAAAAAAAKkAAAAAAAAA5QAAAAAAAACRAAAAAAAAAN0AAAAAAAAAmQAAAAAAAACpAAAAAAAAAOUAAAAAAAAAmQAAAAAAAADhAAAAAAAAAKEAAAAAAAAAsQAAAAAAAADlAAAAAAAAAJkAAAAAAAAA4QAAAAAAAAChAAAAAAAAALEAAAAAAAAA5QAAAAAAAACZAAAAAAAAAOEAAAAAAAAAoQAAAAAAAACxAAAAAAAAAOEAAAAAAAAAmQAAAAAAAADhAAAAAAAAAKkAAAAAAAAA4QAAAAAAAAChAAAAAAAAAOUAAAAAAAAAsQAAAAAAAADhAAAAAAAAAKEAAAAAAAAA5QAAAAAAAAC5AAAAAAAAAOEAAAAAAAAAqQAAAAAAAADpAAAAAAAAAMUAAAAAAAAA4QAAAAAAAACpAAAAAAAAAOkAAAAAAAAAyQAAAAAAAADlAAAAAAAAAKkAAAAAAAAA8QAAAAAAAADRAAAAAAAAAOkAAAAAAAAAqQAAAAAAAAD1AAAAAAAAANUAAAAAAAAA7QAAAAAAAACxAAAAAAAAAPUAAAAAAAAA1QAAAAAAAADxAAAAAAAAALEAAAAAAAAA/QAAAAAAAADdAAAAAAAAAPUAAAAAAAAAsQAAAAAAAAD9AAAAAAAAAOEAAAAAAAAA+QAAAAAAAAC5AAAAAAAAAQEAAAAAAAAA4QAAAAAAAAD5AAAAAAAAALkAAAAAAAABBQAAAAAAAADhAAAAAAAAAP0AAAAAAAAAsQAAAAAAAAEBAAAAAAAAAOEAAAAAAAAA/QAAAAAAAACxAAAAAAAAAP0AAAAAAAAA3QAAAAAAAAD1AAAAAAAAALEAAAAAAAAA9QAAAAAAAADdAAAAAAAAAPEAAAAAAAAAsQAAAAAAAADxAAAAAAAAAN0AAAAAAAAA6QAAAAAAAACpAAAAAAAAAPEAAAAAAAAA3QAAAAAAAADlAAAAAAAAAKkAAAAAAAAA7QAAAAAAAADZAAAAAAAAAN0AAAAAAAAAqQAAAAAAAADpAAAAAAAAANkAAAAAAAAA2QAAAAAAAACpAAAAAAAAAOkAAAAAAAAA2QAAAAAAAADZAAAAAAAAAKEAAAAAAAAA5QAAAAAAAADZAAAAAAAAANkAAAAAAAAAoQAAAAAAAADlAAAAAAAAANUAAAAAAAAA1QAAAAAAAACZAAAAAAAAAOEAAAAAAAAA0QAAAAAAAAChAAAAAAAAANUAAAAAAAAAmQAAAAAAAADdAAAAAAAAANEAAAAAAAAAoQAAAAAAAADRAAAAAAAAAJEAAAAAAAAA2QAAAAAAAADNAAAAAAAAAKEAAAAAAAAA0QAAAAAAAACRAAAAAAAAANUAAAAAAAAAyQAAAAAAAAChAAAAAAAAANEAAAAAAAAAiQAAAAAAAADRAAAAAAAAAMUAAAAAAAAAoQAAAAAAAADNAAAAAAAAAIkAAAAAAAAAzQAAAAAAAADBAAAAAAAAAKEAAAAAAAAAxQAAAAAAAACBAAAAAAAAAMkAAAAAAAAAuQAAAAAAAAChAAAAAAAAAMUAAAAAAAAAgQAAAAAAAAC5AAAAAAAAAJkAAAAAAAAAkQAAAAAAAACxAAAAAAAAAHEAAAAAAAAAuQAAAAAAAACZAAAAAAAAAJEAAAAAAAAAsQAAAAAAAABxAAAAAAAAALEAAAAAAAAAmQAAAAAAAACJAAAAAAAAAKkAAAAAAAAAcQAAAAAAAACpAAAAAAAAAIkAAAAAAAAAiQAAAAAAAACZAAAAAAAAAGEAAAAAAAAAoQAAAAAAAACBAAAAAAAAAIEAAAAAAAAAkQAAAAAAAABhAAAAAAAAAJkAAAAAAAAAgQAAAAAAAACBAAAAAAAAAIkAAAAAAAAAYQAAAAAAAACZAAAAAAAAAIEAAAAAAAAAcQAAAAAAAACBAAAAAAAAAGEAAAAAAAAAmQAAAAAAAACBAAAAAAAAAIEAAAAAAAAAgQAAAAAAAABhAAAAAAAAAJkAAAAAAAAAiQAAAAAAAACBAAAAAAAAAIEAAAAAAAAAYQAAAAAAAAChAAAAAAAAAIkAAAAAAAAAgQAAAAAAAACJAAAAAAAAAGEAAAAAAAAAoQAAAAAAAACJAAAAAAAAAIEAAAAAAAAAiQAAAAAAAABxAAAAAAAAAKEAAAAAAAAAiQAAAAAAAACJAAAAAAAAAIkAAAAAAAAAcQAAAAAAAAChAAAAAAAAAIkAAAAAAAAAiQAAAAAAAACRAAAAAAAAAHEAAAAAAAAAoQAAAAAAAACJAAAAAAAAAIkAAAAAAAAAkQAAAAAAAABxAAAAAAAAAKEAAAAAAAAAgQAAAAAAAACJAAAAAAAAAJEAAAAAAAAAcQAAAAAAAAChAAAAAAAAAIkAAAAAAAAAiQAAAAAAAACRAAAAAAAAAHEAAAAAAAAAoQAAAAAAAACJAAAAAAAAAIkAAAAAAAAAkQAAAAAAAABxAAAAAAAAAKEAAAAAAAAAgQAAAAAAAACJAAAAAAAAAJEAAAAAAAAAcQAAAAAAAAChAAAAAAAAAIEAAAAAAAAAiQAAAAAAAACRAAAAAAAAAIEAAAAAAAAAqQAAAAAAAACJAAAAAAAAAIkAAAAAAAAAmQAAAAAAAACBAAAAAAAAAKkAAAAAAAAAiQAAAAAAAACRAAAAAAAAAJkAAAAAAAAAgQAAAAAAAACpAAAAAAAAAIkAAAAAAAAAkQAAAAAAAACZAAAAAAAAAIEAAAAAAAAAsQAAAAAAAACRAAAAAAAAAJkAAAAAAAAAoQAAAAAAAACBAAAAAAAAALEAAAAAAAAAkQAAAAAAAACZAAAAAAAAAKkAAAAAAAAAgQAAAAAAAAC5AAAAAAAAAIkAAAAAAAAAmQAAAAAAAACxAAAAAAAAAIEAAAAAAAAAwQAAAAAAAACJAAAAAAAAAJkAAAAAAAAAuQAAAAAAAACBAAAAAAAAAMEAAAAAAAAAiQAAAAAAAACZAAAAAAAAALkAAAAAAAAAgQAAAAAAAADFAAAAAAAAAJEAAAAAAAAAmQAAAAAAAAC5AAAAAAAAAIEAAAAAAAAAxQAAAAAAAACJAAAAAAAAAJkAAAAAAAAAuQAAAAAAAACJAAAAAAAAAMUAAAAAAAAAkQAAAAAAAACZAAAAAAAAALkAAAAAAAAAiQAAAAAAAADFAAAAAAAAAJEAAAAAAAAAmQAAAAAAAAC5AAAAAAAAAIkAAAAAAAAAxQAAAAAAAACZAAAAAAAAAJkAAAAAAAAAuQAAAAAAAACJAAAAAAAAAMUAAAAAAAAAmQAAAAAAAACZAAAAAAAAALkAAAAAAAAAiQAAAAAAAADFAAAAAAAAAJEAAAAAAAAAmQAAAAAAAAC5AAAAAAAAAIkAAAAAAAAAxQAAAAAAAACRAAAAAAAAAJkAAAAAAAAAuQAAAAAAAACJAAAAAAAAAMUAAAAAAAAAkQAAAAAAAACZAAAAAAAAALkAAAAAAAAAgQAAAAAAAADFAAAAAAAAAJkAAAAAAAAAmQAAAAAAAAC5AAAAAAAAAIkAAAAAAAAAxQAAAAAAAAChAAAAAAAAAJkAAAAAAAAAuQAAAAAAAACJAAAAAAAAAMUAAAAAAAAAqQAAAAAAAACZAAAAAAAAALkAAAAAAAAAiQAAAAAAAADFAAAAAAAAALkAAAAAAAAAmQAAAAAAAADBAAAAAAAAAIkAAAAAAAAAyQAAAAAAAADFAAAAAAAAAKEAAAAAAAAAxQAAAAAAAACJAAAAAAAAAMkAAAAAAAAAxQAAAAAAAAChAAAAAAAAAMUAAAAAAAAAiQAAAAAAAADJAAAAAAAAAMUAAAAAAAAAoQAAAAAAAADFAAAAAAAAAIkAAAAAAAAAyQAAAAAAAADFAAAAAAAAAKEAAAAAAAAAxQAAAAAAAACJAAAAAAAAAMkAAAAAAAAAxQAAAAAAAAChAAAAAAAAAMUAAAAAAAAAiQAAAAAAAADJAAAAAAAAAMUAAAAAAAAAoQAAAAAAAADFAAAAAAAAAIkAAAAAAAAAyQAAAAAAAADFAAAAAAAAAKEAAAAAAAAAxQAAAAAAAACJAAAAAAAAAM0AAAAAAAAAxQAAAAAAAAChAAAAAAAAAMUAAAAAAAAAkQAAAAAAAADRAAAAAAAAAMUAAAAAAAAAoQAAAAAAAADFAAAAAAAAAJEAAAAAAAAA0QAAAAAAAADFAAAAAAAAAKkAAAAAAAAAxQAAAAAAAACRAAAAAAAAANEAAAAAAAAAzQAAAAAAAACpAAAAAAAAAMUAAAAAAAAAkQAAAAAAAADRAAAAAAAAAMkAAAAAAAAAsQAAAAAAAADJAAAAAAAAAJEAAAAAAAAA1QAAAAAAAADNAAAAAAAAALEAAAAAAAAAzQAAAAAAAACZAAAAAAAAANkAAAAAAAAAzQAAAAAAAAC5AAAAAAAAANEAAAAAAAAAmQAAAAAAAADZAAAAAAAAAMkAAAAAAAAAuQAAAAAAAADVAAAAAAAAAJkAAAAAAAAA3QAAAAAAAADJAAAAAAAAALkAAAAAAAAA1QAAAAAAAACZAAAAAAAAAOEAAAAAAAAAyQAAAAAAAADBAAAAAAAAANUAAAAAAAAAoQAAAAAAAADpAAAAAAAAAM0AAAAAAAAAwQAAAAAAAADZAAAAAAAAAKEAAAAAAAAA7QAAAAAAAADVAAAAAAAAAMUAAAAAAAAA3QAAAAAAAACpAAAAAAAAAPEAAAAAAAAA2QAAAAAAAADFAAAAAAAAAOUAAAAAAAAAqQAAAAAAAAD1AAAAAAAAANkAAAAAAAAAyQAAAAAAAADpAAAAAAAAALEAAAAAAAAA+QAAAAAAAADRAAAAAAAAAMkAAAAAAAAA5QAAAAAAAAC5AAAAAAAAAP0AAAAAAAAAzQAAAAAAAADNAAAAAAAAAPEAAAAAAAAAuQAAAAAAAAD9AAAAAAAAAMkAAAAAAAAA0QAAAAAAAADtAAAAAAAAAMEAAAAAAAABAQAAAAAAAADFAAAAAAAAANEAAAAAAAAA8QAAAAAAAADBAAAAAAAAAQEAAAAAAAAAyQAAAAAAAADVAAAAAAAAAPUAAAAAAAAAwQAAAAAAAgEBAAAAAAAAAMkAAAAAAAAA2QAAAAAAAAD1AAAAAAAAAMEAAAAAAAABBQAAAAAAAADNAAAAAAAAANkAAAAAAAAA+QAAAAAAAADBAAAAAAACAQUAAAAAAAAA0QAAAAAAAADdAAAAAAAAAP0AAAAAAAAAwQAAAAAAAAEJAAAAAAAAANEAAAAAAAAA4QAAAAAAAAEBAAAAAAAAAMEAAAAAAAABCQAAAAAAAADZAAAAAAAAAOEAAAAAAAABAQAAAAAAAADBAAAAAAAAAQkAAAAAAAAA3QAAAAAAAADlAAAAAAACAQEAAAAAAAAAuQAAAAAAAgEJAAAAAAAAAOEAAAAAAAAA5QAAAAAAAgEBAAAAAAAAALkAAAAAAAIBCQAAAAAAAADlAAAAAAAAAOkAAAAAAAIBAQAAAAAAAAC5AAAAAAACAQkAAAAAAAAA5QAAAAAAAADpAAAAAAACAQEAAAAAAAAAwQAAAAAAAgEJAAAAAAAAAOUAAAAAAAAA6QAAAAAAAgEBAAAAAAAAAMEAAAAAAAIBCQAAAAAAAADlAAAAAAAAAO0AAAAAAAIBAQAAAAAAAADFAAAAAAACAQkAAAAAAAAA6QAAAAAAAADtAAAAAAACAQEAAAAAAAAAxQAAAAAAAgEJAAAAAAAAAO0AAAAAAAAA7QAAAAAAAgEBAAAAAAAAAMUAAAAAAAIBCQAAAAAAAADxAAAAAAAAAPEAAAAAAAIBAQAAAAAAAADJAAAAAAAAAQkAAAAAAAAA9QAAAAAAAADxAAAAAAACAQEAAAAAAAAAyQAAAAAAAAEJAAAAAAAAAPkAAAAAAAAA8QAAAAAAAAEBAAAAAAAAAMkAAAAAAAABBQAAAAAAAAD1AAAAAAAAAPEAAAAAAAABAQAAAAAAAADJAAAAAAACAQEAAAAAAAAA9QAAAAAAAADxAAAAAAAAAQEAAAAAAAAAyQAAAAAAAAEJAAAAAAAAAPUAAAAAAAAA8QAAAAAAAgEBAAAAAAAAAMkAAAAAAAABDQAAAAAAAAD5AAAAAAAAAPEAAAAAAAIBAQAAAAAAAADNAAAAAAACAQ0AAAAAAAAA/QAAAAAAAADxAAAAAAACAQEAAAAAAAAAzQAAAAAAAgENAAAAAAAAAQEAAAAAAAAA9QAAAAAAAgEBAAAAAAAAAM0AAAAAAAABEQAAAAAAAAEBAAAAAAAAAPUAAAAAAAIBAQAAAAAAAADNAAAAAAAAAREAAAAAAAABAQAAAAAAAAD1AAAAAAAAAQEAAAAAAAAA0QAAAAAAAAERAAAAAAAAAQEAAAAAAAAA9QAAAAAAAAEBAAAAAAAAANEAAAAAAAABEQAAAAAAAAEBAAAAAAAAAPUAAAAAAAABAQAAAAAAAADVAAAAAAAAAREAAAAAAAABAQAAAAAAAADxAAAAAAAAAP0AAAAAAAAA2QAAAAAAAAERAAAAAAAAAP0AAAAAAAAA8QAAAAAAAAD9AAAAAAAAANkAAAAAAAABEQAAAAAAAAD9AAAAAAAAAO0AAAAAAAAA+QAAAAAAAADdAAAAAAAAAREAAAAAAAAA/QAAAAAAAADtAAAAAAAAAPkAAAAAAAAA4QAAAAAAAgENAAAAAAAAAPkAAAAAAAAA7QAAAAAAAAD5AAAAAAAAAN0AAAAAAAIBDQAAAAAAAAD5AAAAAAAAAOkAAAAAAAAA+QAAAAAAAADhAAAAAAACAQ0AAAAAAAAA+QAAAAAAAADpAAAAAAAAAPkAAAAAAAAA4QAAAAAAAgENAAAAAAAAAPUAAAAAAAAA6QAAAAAAAAD5AAAAAAAAAOEAAAAAAAIBDQAAAAAAAADxAAAAAAAAAOkAAAAAAAAA+QAAAAAAAADdAAAAAAACAQ0AAAAAAAAA8QAAAAAAAADpAAAAAAAAAPkAAAAAAAAA4QAAAAAAAgENAAAAAAAAAPUAAAAAAAAA6QAAAAAAAAD5AAAAAAAAAN0AAAAAAAIBDQAAAAAAAADxAAAAAAAAAOkAAAAAAAAA+QAAAAAAAADdAAAAAAACAQ0AAAAAAAAA8QAAAAAAAADpAAAAAAAAAPkAAAAAAAAA3QAAAAAAAAEJAAAAAAAAAOkAAAAAAAAA6QAAAAAAAAD9AAAAAAAAAOEAAAAAAAABCQAAAAAAAADpAAAAAAAAAOkAAAAAAAAA/QAAAAAAAADhAAAAAAACAQkAAAAAAAAA6QAAAAAAAADpAAAAAAAAAP0AAAAAAAAA4QAAAAAAAgEJAAAAAAAAAOkAAAAAAAAA6QAAAAAAAAD9AAAAAAAAAOEAAAAAAAABCQAAAAAAAADpAAAAAAAAAOkAAAAAAAAA+QAAAAAAAADdAAAAAAAAAQkAAAAAAAAA6QAAAAAAAADlAAAAAAAAAPkAAAAAAAAA3QAAAAAAAgEFAAAAAAAAAOkAAAAAAAAA5QAAAAAAAAD5AAAAAAAAAN0AAAAAAAIBBQAAAAAAAADlAAAAAAAAAOUAAAAAAAAA9QAAAAAAAADdAAAAAAAAAQUAAAAAAAAA5QAAAAAAAADlAAAAAAAAAPUAAAAAAAAA3QAAAAAAAAEFAAAAAAAAAOUAAAAAAAAA5QAAAAAAAAD1AAAAAAAAAN0AAAAAAAABBQAAAAAAAADlAAAAAAAAAOUAAAAAAAAA9QAAAAAAAADdAAAAAAAAAQUAAAAAAAAA5QAAAAAAAADhAAAAAAAAAPUAAAAAAAAA2QAAAAAAAgEBAAAAAAAAAOUAAAAAAAAA5QAAAAAAAAD1AAAAAAAAANkAAAAAAAIBAQAAAAAAAADlAAAAAAAAAOUAAAAAAAAA9QAAAAAAAADVAAAAAAACAQEAAAAAAAAA6QAAAAAAAADlAAAAAAAAAPUAAAAAAAAA1QAAAAAAAgEBAAAAAAAAAOkAAAAAAAAA5QAAAAAAAAD1AAAAAAAAANUAAAAAAAIBAQAAAAAAAADpAAAAAAAAAOUAAAAAAAAA9QAAAAAAAADRAAAAAAACAQEAAAAAAAAA7QAAAAAAAADlAAAAAAAAAPEAAAAAAAAA0QAAAAAAAgEBAAAAAAAAAO0AAAAAAAAA5QAAAAAAAADxAAAAAAAAAM0AAAAAAAIBAQAAAAAAAADxAAAAAAAAAOUAAAAAAAAA8QAAAAAAAADNAAAAAAACAQEAAAAAAAAA7QAAAAAAAADlAAAAAAAAAO0AAAAAAAAAyQAAAAAAAAEBAAAAAAAAAOkAAAAAAAAA4QAAAAAAAADtAAAAAAAAAMUAAAAAAAAA/QAAAAAAAADlAAAAAAAAAN0AAAAAAAAA7QAAAAAAAADFAAAAAAAAAP0AAAAAAAAA6QAAAAAAAADdAAAAAAAAAOkAAAAAAAAAwQAAAAAAAAD5AAAAAAAAAOUAAAAAAAAA3QAAAAAAAADlAAAAAAAAALkAAAAAAAAA+QAAAAAAAADhAAAAAAAAAN0AAAAAAAAA4QAAAAAAAACxAAAAAAAAAPkAAAAAAAAA3QAAAAAAAADZAAAAAAAAAN0AAAAAAAAAqQAAAAAAAAD1AAAAAAAAAN0AAAAAAAAA2QAAAAAAAADZAAAAAAAAAKEAAAAAAAAA9QAAAAAAAADdAAAAAAAAANkAAAAAAAAA2QAAAAAAAAChAAAAAAAAAPUAAAAAAAAA3QAAAAAAAADZAAAAAAAAANkAAAAAAAAAoQAAAAAAAAD1AAAAAAAAANkAAAAAAAAA2QAAAAAAAADZAAAAAAAAAKEAAAAAAAAA9QAAAAAAAADZAAAAAAAAANkAAAAAAAAA2QAAAAAAAACZAAAAAAAAAPUAAAAAAAAA1QAAAAAAAADVAAAAAAAAANUAAAAAAAAAkQAAAAAAAADxAAAAAAAAANEAAAAAAAAA0QAAAAAAAADVAAAAAAAAAJEAAAAAAAAA7QAAAAAAAADJAAAAAAAAANEAAAAAAAAA0QAAAAAAAACJAAAAAAAAAO0AAAAAAAAAyQAAAAAAAADNAAAAAAAAANEAAAAAAAAAiQAAAAAAAADpAAAAAAAAAMEAAAAAAAAAzQAAAAAAAADRAAAAAAAAAIEAAAAAAAAA5QAAAAAAAADBAAAAAAAAAMkAAAAAAAAAzQAAAAAAAACBAAAAAAAAAOUAAAAAAAAAuQAAAAAAAADFAAAAAAAAAMkAAAAAAAAAgQAAAAAAAADhAAAAAAAAALEAAAAAAAAAxQAAAAAAAADJAAAAAAAAAIEAAAAAAAAA3QAAAAAAAACpAAAAAAAAAMEAAAAAAAAAxQAAAAAAAADdAAAAAAAAAJkAAAAAAAAAuQAAAAAAAADFAAAAAAAAANkAAAAAAAAAoQAAAAAAAAC5AAAAAAAAAMEAAAAAAAAA2QAAAAAAAACZAAAAAAAAALEAAAAAAAAAwQAAAAAAAADVAAAAAAAAAJEAAAAAAAAAsQAAAAAAAAC5AAAAAAAAANUAAAAAAAAAkQAAAAAAAACxAAAAAAAAALkAAAAAAAAA2QAAAAAAAAChAAAAAAAAALkAAAAAAAAAuQAAAAAAAADZAAAAAAAAAJkAAAAAAAAAsQAAAAAAAAC5AAAAAAAAANkAAAAAAAAAmQAAAAAAAACxAAAAAAAAALEAAAAAAAAA1QAAAAAAAACZAAAAAAAAALEAAAAAAAAAsQAAAAAAAADVAAAAAAAAAKEAAAAAAAAAsQAAAAAAAACxAAAAAAAAANUAAAAAAAAAoQAAAAAAAACpAAAAAAAAALEAAAAAAAAA0QAAAAAAAACZAAAAAAAAAKkAAAAAAAAAuQAAAAAAAADRAAAAAAAAAJEAAAAAAAAAqQAAAAAAAAC5AAAAAAAAANUAAAAAAAAAkQAAAAAAAAChAAAAAAAAALkAAAAAAAAA2QAAAAAAAACZAAAAAAAAAKkAAAAAAAAAuQAAAAAAAADZAAAAAAAAAKEAAAAAAAAAqQAAAAAAAAC5AAAAAAAAAN0AAAAAAAAAqQAAAAAAAACxAAAAAAAAAMEAAAAAAAAA3QAAAAAAAACxAAAAAAAAALEAAAAAAAAAuQAAAAAAAADdAAAAAAAAALkAAAAAAAAAsQAAAAAAAAC5AAAAAAAAAOEAAAAAAAAAwQAAAAAAAACxAAAAAAAAAMEAAAAAAAAA4QAAAAAAAADFAAAAAAAAALkAAAAAAAAAxQAAAAAAAADhAAAAAAAAAMUAAAAAAAAAuQAAAAAAAADFAAAAAAAAAOUAAAAAAAAAyQAAAAAAAADBAAAAAAAAAMkAAAAAAAAA6QAAAAAAAADNAAAAAAAAAMEAAAAAAAAAzQAAAAAAAADpAAAAAAAAAM0AAAAAAAAAxQAAAAAAAADNAAAAAAAAAMUAAAAAAAAA8QAAAAAAAADNAAAAAAAAAMUAAAAAAAAA0QAAAAAAAADFAAAAAAAAAPUAAAAAAAAAzQAAAAAAAADJAAAAAAAAANEAAAAAAAAAwQAAAAAAAAD5AAAAAAAAAM0AAAAAAAAAyQAAAAAAAADRAAAAAAAAAMEAAAAAAAAA/QAAAAAAAADRAAAAAAAAAMkAAAAAAAAA1QAAAAAAAADBAAAAAAAAAQEAAAAAAAAAzQAAAAAAAADNAAAAAAAAANUAAAAAAAAAwQAAAAAAAgEBAAAAAAAAANEAAAAAAAAAzQAAAAAAAADVAAAAAAAAAMUAAAAAAAIBAQAAAAAAAADRAAAAAAAAANEAAAAAAAAA2QAAAAAAAADFAAAAAAAAAPkAAAAAAAAA1QAAAAAAAADRAAAAAAAAANkAAAAAAAAAyQAAAAAAAAD5AAAAAAAAANUAAAAAAAAA0QAAAAAAAADZAAAAAAAAAMkAAAAAAAAA+QAAAAAAAADZAAAAAAAAANEAAAAAAAAA2QAAAAAAAADJAAAAAAAAAPkAAAAAAAAA2QAAAAAAAADVAAAAAAAAANkAAAAAAAAAzQAAAAAAAAD5AAAAAAAAANkAAAAAAAAA1QAAAAAAAADVAAAAAAAAAM0AAAAAAAAA9QAAAAAAAADZAAAAAAAAANUAAAAAAAAA1QAAAAAAAADNAAAAAAAAAPUAAAAAAAAA2QAAAAAAAADVAAAAAAAAANUAAAAAAAAAzQAAAAAAAAD1AAAAAAAAANkAAAAAAAAA1QAAAAAAAADZAAAAAAAAAM0AAAAAAAAA9QAAAAAAAADZAAAAAAAAANUAAAAAAAAA2QAAAAAAAADNAAAAAAAAAPUAAAAAAAAA2QAAAAAAAADVAAAAAAAAANkAAAAAAAAAzQAAAAAAAAD1AAAAAAAAANUAAAAAAAAA1QAAAAAAAADdAAAAAAAAAM0AAAAAAAAA8QAAAAAAAADRAAAAAAAAANEAAAAAAAAA2QAAAAAAAADJAAAAAAAAAPEAAAAAAAAA0QAAAAAAAADRAAAAAAAAANkAAAAAAAAAyQAAAAAAAADtAAAAAAAAANEAAAAAAAAA0QAAAAAAAADVAAAAAAAAAMkAAAAAAAAA6QAAAAAAAADNAAAAAAAAAM0AAAAAAAAA0QAAAAAAAADFAAAAAAAAAOUAAAAAAAAAzQAAAAAAAADJAAAAAAAAANEAAAAAAAAAxQAAAAAAAADlAAAAAAAAAMkAAAAAAAAAyQAAAAAAAADNAAAAAAAAAMEAAAAAAAAA4QAAAAAAAADJAAAAAAAAAMkAAAAAAAAAzQAAAAAAAADBAAAAAAAAAOEAAAAAAAAAyQAAAAAAAADFAAAAAAAAAM0AAAAAAAAAuQAAAAAAAADdAAAAAAAAAMUAAAAAAAAAxQAAAAAAAADJAAAAAAAAALkAAAAAAAAA3QAAAAAAAADBAAAAAAAAAMEAAAAAAAAAyQAAAAAAAACxAAAAAAAAAOEAAAAAAAAAwQAAAAAAAADBAAAAAAAAAMkAAAAAAAAAsQAAAAAAAADhAAAAAAAAALkAAAAAAAAAuQAAAAAAAADFAAAAAAAAAKkAAAAAAAAA1QAAAAAAAAC5AAAAAAAAALEAAAAAAAAAxQAAAAAAAAChAAAAAAAAANEAAAAAAAAAsQAAAAAAAACpAAAAAAAAAMEAAAAAAAAAmQAAAAAAAADJAAAAAAAAAKkAAAAAAAAAqQAAAAAAAAC5AAAAAAAAAJkAAAAAAAAAxQAAAAAAAAChAAAAAAAAAKEAAAAAAAAAsQAAAAAAAACRAAAAAAAAAMUAAAAAAAAAmQAAAAAAAACZAAAAAAAAALEAAAAAAAAAkQAAAAAAAAC5AAAAAAAAAJEAAAAAAAAAmQAAAAAAAACpAAAAAAAAAIkAAAAAAAAAuQAAAAAAAACRAAAAAAAAAJEAAAAAAAAAqQAAAAAAAACBAAAAAAAAALkAAAAAAAAAiQAAAAAAAACJAAAAAAAAAKkAAAAAAAAAgQAAAAAAAACxAAAAAAAAAIEAAAAAAAAAiQAAAAAAAACpAAAAAAAAAHEAAAAAAAAAsQAAAAAAAACBAAAAAAAAAIkAAAAAAAAAoQAAAAAAAABxAAAAAAAAAKkAAAAAAAAAgQAAAAAAAACJAAAAAAAAAKEAAAAAAAAAYQAAAAAAAACxAAAAAAAAAIEAAAAAAAAAiQAAAAAAAAChAAAAAAAAAGEAAAAAAAAAsQAAAAAAAACBAAAAAAAAAIkAAAAAAAAAqQAAAAAAAABhAAAAAAAAALEAAAAAAAAAgQAAAAAAAACRAAAAAAAAALEAAAAAAAAAcQAAAAAAAAC5AAAAAAAAAIEAAAAAAAAAkQAAAAAAAAC5AAAAAAAAAHEAAAAAAAAAuQAAAAAAAACJAAAAAAAAAJkAAAAAAAAAuQAAAAAAAACBAAAAAAAAALkAAAAAAAAAiQAAAAAAAACZAAAAAAAAAMEAAAAAAAAAgQAAAAAAAADBAAAAAAAAAIkAAAAAAAAAmQAAAAAAAADBAAAAAAAAAIEAAAAAAAAAwQAAAAAAAACJAAAAAAAAAKEAAAAAAAAAxQAAAAAAAACBAAAAAAAAAMUAAAAAAAAAkQAAAAAAAAChAAAAAAAAAMUAAAAAAAAAiQAAAAAAAADFAAAAAAAAAJEAAAAAAAAAoQAAAAAAAADFAAAAAAAAAIkAAAAAAAAAyQAAAAAAAACRAAAAAAAAAKkAAAAAAAAAxQAAAAAAAACJAAAAAAAAAMUAAAAAAAAAkQAAAAAAAACpAAAAAAAAAMkAAAAAAAAAkQAAAAAAAADJAAAAAAAAAJkAAAAAAAAAsQAAAAAAAADJAAAAAAAAAJEAAAAAAAAAzQAAAAAAAACZAAAAAAAAALEAAAAAAAAAyQAAAAAAAACRAAAAAAAAANEAAAAAAAAAoQAAAAAAAACxAAAAAAAAAM0AAAAAAAAAmQAAAAAAAADVAAAAAAAAAKEAAAAAAAAAuQAAAAAAAADRAAAAAAAAAJkAAAAAAAAA1QAAAAAAAACpAAAAAAAAALkAAAAAAAAA0QAAAAAAAAChAAAAAAAAANkAAAAAAAAAsQAAAAAAAAC5AAAAAAAAANUAAAAAAAAAoQAAAAAAAADdAAAAAAAAALEAAAAAAAAAwQAAAAAAAADVAAAAAAAAAKkAAAAAAAAA3QAAAAAAAACxAAAAAAAAAMEAAAAAAAAA1QAAAAAAAACxAAAAAAAAAOEAAAAAAAAAuQAAAAAAAADBAAAAAAAAANUAAAAAAAAAsQAAAAAAAADhAAAAAAAAALkAAAAAAAAAwQAAAAAAAADVAAAAAAAAALEAAAAAAAAA5QAAAAAAAAC5AAAAAAAAAMEAAAAAAAAA1QAAAAAAAAC5AAAAAAAAAOUAAAAAAAAAwQAAAAAAAADBAAAAAAAAANUAAAAAAAAAuQAAAAAAAADlAAAAAAAAAMEAAAAAAAAAuQAAAAAAAADRAAAAAAAAALkAAAAAAAAA5QAAAAAAAADBAAAAAAAAALkAAAAAAAAA0QAAAAAAAACxAAAAAAAAAOUAAAAAAAAAwQAAAAAAAACxAAAAAAAAANEAAAAAAAAAsQAAAAAAAADhAAAAAAAAAMEAAAAAAAAAsQAAAAAAAADNAAAAAAAAALEAAAAAAAAA4QAAAAAAAADBAAAAAAAAAKkAAAAAAAAAzQAAAAAAAACpAAAAAAAAAOEAAAAAAAAAwQAAAAAAAACpAAAAAAAAAM0AAAAAAAAAqQAAAAAAAADhAAAAAAAAAMEAAAAAAAAAoQAAAAAAAADNAAAAAAAAAKkAAAAAAAAA3QAAAAAAAADBAAAAAAAAAKEAAAAAAAAAyQAAAAAAAACpAAAAAAAAAN0AAAAAAAAAwQAAAAAAAAChAAAAAAAAAMkAAAAAAAAAoQAAAAAAAADdAAAAAAAAAMEAAAAAAAAAoQAAAAAAAADJAAAAAAAAAKEAAAAAAAAA3QAAAAAAAAC5AAAAAAAAAJkAAAAAAAAAyQAAAAAAAAChAAAAAAAAAN0AAAAAAAAAuQAAAAAAAACZAAAAAAAAAMkAAAAAAAAAoQAAAAAAAADdAAAAAAAAALkAAAAAAAAAmQAAAAAAAADJAAAAAAAAAKEAAAAAAAAA3QAAAAAAAAC5AAAAAAAAAJkAAAAAAAAAyQAAAAAAAACZAAAAAAAAAN0AAAAAAAAAuQAAAAAAAACZAAAAAAAAAM0AAAAAAAAAmQAAAAAAAADdAAAAAAAAAMEAAAAAAAAAmQAAAAAAAADNAAAAAAAAAIkAAAAAAAAA3QAAAAAAAADBAAAAAAAAAJkAAAAAAAAAzQAAAAAAAACJAAAAAAAAAN0AAAAAAAAAuQAAAAAAAAChAAAAAAAAANEAAAAAAAAAkQAAAAAAAADdAAAAAAAAALkAAAAAAAAAoQAAAAAAAADVAAAAAAAAAJEAAAAAAAAA3QAAAAAAAADBAAAAAAAAAKEAAAAAAAAA1QAAAAAAAACRAAAAAAAAAN0AAAAAAAAAwQAAAAAAAACpAAAAAAAAANUAAAAAAAAAkQAAAAAAAADZAAAAAAAAAMEAAAAAAAAAqQAAAAAAAADVAAAAAAAAAJEAAAAAAAAA4QAAAAAAAADBAAAAAAAAAKkAAAAAAAAA1QAAAAAAAACRAAAAAAAAAOUAAAAAAAAAwQAAAAAAAACxAAAAAAAAANUAAAAAAAAAmQAAAAAAAADlAAAAAAAAAMUAAAAAAAAAsQAAAAAAAADZAAAAAAAAAJkAAAAAAAAA5QAAAAAAAADFAAAAAAAAALEAAAAAAAAA2QAAAAAAAACZAAAAAAAAAOEAAAAAAAAAxQAAAAAAAACxAAAAAAAAANUAAAAAAAAAkQAAAAAAAADhAAAAAAAAAMEAAAAAAAAAqQAAAAAAAADVAAAAAAAAAJEAAAAAAAAA3QAAAAAAAADBAAAAAAAAAKkAAAAAAAAA0QAAAAAAAACRAAAAAAAAAOEAAAAAAAAAuQAAAAAAAACpAAAAAAAAANEAAAAAAAAAkQAAAAAAAADhAAAAAAAAALkAAAAAAAAAqQAAAAAAAADNAAAAAAAAAJEAAAAAAAAA5QAAAAAAAAC5AAAAAAAAAKkAAAAAAAAAzQAAAAAAAACRAAAAAAAAAOkAAAAAAAAAwQAAAAAAAACpAAAAAAAAAM0AAAAAAAAAkQAAAAAAAADpAAAAAAAAALkAAAAAAAAAqQAAAAAAAADJAAAAAAAAAJEAAAAAAAAA2QAAAAAAAADBAAAAAAAAAKkAAAAAAAAAyQAAAAAAAACRAAAAAAAAANkAAAAAAAAAwQAAAAAAAACpAAAAAAAAAMkAAAAAAAAAkQAAAAAAAADZAAAAAAAAAMEAAAAAAAAAqQAAAAAAAADJAAAAAAAAAJEAAAAAAAAA2QAAAAAAAAC5AAAAAAAAAKkAAAAAAAAAyQAAAAAAAACJAAAAAAAAANUAAAAAAAAAuQAAAAAAAACpAAAAAAAAAMkAAAAAAAAAiQAAAAAAAADVAAAAAAAAALEAAAAAAAAAqQAAAAAAAADFAAAAAAAAAIkAAAAAAAAA1QAAAAAAAACxAAAAAAAAAKEAAAAAAAAAxQAAAAAAAACJAAAAAAAAANEAAAAAAAAAsQAAAAAAAAChAAAAAAAAAMEAAAAAAAAAgQAAAAAAAADRAAAAAAAAALEAAAAAAAAAoQAAAAAAAAC5AAAAAAAAAIEAAAAAAAAAzQAAAAAAAACxAAAAAAAAAJkAAAAAAAAAuQAAAAAAAACBAAAAAAAAAM0AAAAAAAAAqQAAAAAAAACZAAAAAAAAALkAAAAAAAAAcQAAAAAAAADJAAAAAAAAAKkAAAAAAAAAkQAAAAAAAAC5AAAAAAAAAHEAAAAAAAAAyQAAAAAAAAChAAAAAAAAAJEAAAAAAAAAuQAAAAAAAABxAAAAAAAAAMUAAAAAAAAAoQAAAAAAAACRAAAAAAAAALkAAAAAAAAAcQAAAAAAAADJAAAAAAAAAJkAAAAAAAAAkQAAAAAAAAC5AAAAAAAAAHEAAAAAAAAAzQAAAAAAAACRAAAAAAAAAJEAAAAAAAAAuQAAAAAAAABxAAAAAAAAAM0AAAAAAAAAkQAAAAAAAACRAAAAAAAAAMEAAAAAAAAAcQAAAAAAAADNAAAAAAAAAJkAAAAAAAAAkQAAAAAAAADFAAAAAAAAAHEAAAAAAAAAzQAAAAAAAACRAAAAAAAAAJEAAAAAAAAAxQAAAAAAAABxAAAAAAAAAM0AAAAAAAAAmQAAAAAAAACRAAAAAAAAAMkAAAAAAAAAcQAAAAAAAADRAAAAAAAAAJkAAAAAAAAAkQAAAAAAAADJAAAAAAAAAHEAAAAAAAAA0QAAAAAAAACRAAAAAAAAAJEAAAAAAAAAzQAAAAAAAABxAAAAAAAAANEAAAAAAAAAcQAAAAAAAACRAAAAAAAAAJEAAAAAAAAA0QAAAAAAAABxAAAAAAAAANUAAAAAAAAAcQAAAAAAAACRAAAAAAAAAJEAAAAAAAAA0QAAAAAAAABxAAAAAAAAANUAAAAAAAAAgQAAAAAAAACRAAAAAAAAAJEAAAAAAAAA0QAAAAAAAABxAAAAAAAAANkAAAAAAAAAgQAAAAAAAACRAAAAAAAAAJkAAAAAAAAA0QAAAAAAAABxAAAAAAAAANkAAAAAAAAAiQAAAAAAAACRAAAAAAAAAJkAAAAAAAAA1QAAAAAAAABxAAAAAAAAANEAAAAAAAAAkQAAAAAAAACRAAAAAAAAAKEAAAAAAAAA2QAAAAAAAABxAAAAAAAAAM0AAAAAAAAAoQAAAAAAAACRAAAAAAAAAKkAAAAAAAAA3QAAAAAAAABxAAAAAAAAAM0AAAAAAAAAsQAAAAAAAACRAAAAAAAAAKkAAAAAAAAA4QAAAAAAAABxAAAAAAAAAM0AAAAAAAAAwQAAAAAAAACRAAAAAAAAAKkAAAAAAAAA6QAAAAAAAABxAAAAAAAAAM0AAAAAAAAAwQAAAAAAAACRAAAAAAAAAKkAAAAAAAAA7QAAAAAAAABxAAAAAAAAAM0AAAAAAAAAwQAAAAAAAACRAAAAAAAAAKkAAAAAAAAA7QAAAAAAAABhAAAAAAAAAM0AAAAAAAAAuQAAAAAAAACJAAAAAAAAAKEAAAAAAAAA7QAAAAAAAABhAAAAAAAAAM0AAAAAAAAAuQAAAAAAAACJAAAAAAAAAKkAAAAAAAAA7QAAAAAAAABhAAAAAAAAAM0AAAAAAAAAuQAAAAAAAACJAAAAAAAAAKkAAAAAAAAA7QAAAAAAAABhAAAAAAAAAM0AAAAAAAAAwQAAAAAAAACJAAAAAAAAAKkAAAAAAAAA8QAAAAAAAABhAAAAAAAAAM0AAAAAAAAAwQAAAAAAAACJAAAAAAAAAKkAAAAAAAAA9QAAAAAAAABhAAAAAAAAAMkAAAAAAAAAxQAAAAAAAACRAAAAAAAAAKkAAAAAAAAA/QAAAAAAAABhAAAAAAAAAMUAAAAAAAAAxQAAAAAAAACRAAAAAAAAALEAAAAAAAABAQAAAAAAAABhAAAAAAAAANEAAAAAAAAAyQAAAAAAAACZAAAAAAAAALEAAAAAAAIBAQAAAAAAAABhAAAAAAAAANUAAAAAAAAAzQAAAAAAAACZAAAAAAAAALEAAAAAAAABBQAAAAAAAABhAAAAAAAAANUAAAAAAAAA0QAAAAAAAACZAAAAAAAAALEAAAAAAAIBBQAAAAAAAABhAAAAAAAAANUAAAAAAAAA0QAAAAAAAAChAAAAAAAAALkAAAAAAAABCQAAAAAAAABhAAAAAAAAANkAAAAAAAAA1QAAAAAAAAChAAAAAAAAALkAAAAAAAIBCQAAAAAAAABxAAAAAAAAAN0AAAAAAAAA1QAAAAAAAACpAAAAAAAAALkAAAAAAAABDQAAAAAAAABxAAAAAAAAAN0AAAAAAAAA1QAAAAAAAACpAAAAAAAAALkAAAAAAAABDQAAAAAAAABxAAAAAAAAAOEAAAAAAAAA1QAAAAAAAACpAAAAAAAAAMEAAAAAAAABDQAAAAAAAABxAAAAAAAAAOEAAAAAAAAA1QAAAAAAAACpAAAAAAAAAMEAAAAAAAABDQAAAAAAAABxAAAAAAAAAOEAAAAAAAAA1QAAAAAAAACxAAAAAAAAALkAAAAAAAABDQAAAAAAAABxAAAAAAAAAOUAAAAAAAAA0QAAAAAAAACxAAAAAAAAALkAAAAAAAABDQAAAAAAAACBAAAAAAAAAOkAAAAAAAAA0QAAAAAAAAC5AAAAAAAAALkAAAAAAAABDQAAAAAAAACBAAAAAAAAAO0AAAAAAAAAzQAAAAAAAAC5AAAAAAAAAMEAAAAAAAIBCQAAAAAAAACBAAAAAAAAAO0AAAAAAAAAyQAAAAAAAAC5AAAAAAAAAMEAAAAAAAABCQAAAAAAAACJAAAAAAAAAPUAAAAAAAAAzQAAAAAAAAC5AAAAAAAAAMEAAAAAAAABCQAAAAAAAACJAAAAAAAAAP0AAAAAAAAA0QAAAAAAAAC5AAAAAAAAAMkAAAAAAAABCQAAAAAAAACJAAAAAAAAAP0AAAAAAAAA1QAAAAAAAAC5AAAAAAAAAMkAAAAAAAABCQAAAAAAAACBAAAAAAAAAQEAAAAAAAAA1QAAAAAAAAC5AAAAAAAAAM0AAAAAAAIBCQAAAAAAAACBAAAAAAAAAQEAAAAAAAAA1QAAAAAAAAC5AAAAAAAAAM0AAAAAAAIBCQAAAAAAAACJAAAAAAACAQEAAAAAAAAA1QAAAAAAAAC5AAAAAAAAANEAAAAAAAIBCQAAAAAAAACJAAAAAAACAQEAAAAAAAAA1QAAAAAAAADBAAAAAAAAANEAAAAAAAIBCQAAAAAAAACJAAAAAAACAQEAAAAAAAAA0QAAAAAAAAC5AAAAAAAAAM0AAAAAAAIBBQAAAAAAAACJAAAAAAACAQEAAAAAAAAAzQAAAAAAAAC5AAAAAAAAAM0AAAAAAAIBAQAAAAAAAACJAAAAAAAAAPkAAAAAAAAAyQAAAAAAAACxAAAAAAAAAMkAAAAAAAAA+QAAAAAAAACJAAAAAAAAAPUAAAAAAAAAxQAAAAAAAACxAAAAAAAAAMUAAAAAAAAA8QAAAAAAAACBAAAAAAAAAPEAAAAAAAAAxQAAAAAAAACxAAAAAAAAAMUAAAAAAAAA7QAAAAAAAACJAAAAAAAAAPEAAAAAAAAAxQAAAAAAAACpAAAAAAAAAMUAAAAAAAAA5QAAAAAAAACJAAAAAAAAAPEAAAAAAAAAxQAAAAAAAACpAAAAAAAAAMUAAAAAAAAA4QAAAAAAAACJAAAAAAAAAPEAAAAAAAAAxQAAAAAAAACpAAAAAAAAAMkAAAAAAAAA3QAAAAAAAACJAAAAAAAAAO0AAAAAAAAAxQAAAAAAAACpAAAAAAAAAMUAAAAAAAAA3QAAAAAAAACJAAAAAAAAAO0AAAAAAAAAxQAAAAAAAACpAAAAAAAAAMkAAAAAAAAA2QAAAAAAAACJAAAAAAAAAOkAAAAAAAAAxQAAAAAAAACpAAAAAAAAAMUAAAAAAAAA1QAAAAAAAACRAAAAAAAAAOkAAAAAAAAAxQAAAAAAAAChAAAAAAAAAMUAAAAAAAAA1QAAAAAAAACJAAAAAAAAAO0AAAAAAAAAxQAAAAAAAAChAAAAAAAAAMUAAAAAAAAA0QAAAAAAAACJAAAAAAAAAOkAAAAAAAAAxQAAAAAAAAChAAAAAAAAAMUAAAAAAAAA0QAAAAAAAACJAAAAAAAAAN0AAAAAAAAAwQAAAAAAAACZAAAAAAAAAMEAAAAAAAAAzQAAAAAAAACJAAAAAAAAANkAAAAAAAAAuQAAAAAAAACZAAAAAAAAALkAAAAAAAAAzQAAAAAAAACBAAAAAAAAANUAAAAAAAAAsQAAAAAAAACZAAAAAAAAALEAAAAAAAAAxQAAAAAAAACBAAAAAAAAAMkAAAAAAAAAsQAAAAAAAACZAAAAAAAAAKkAAAAAAAAAwQAAAAAAAACBAAAAAAAAAMUAAAAAAAAAqQAAAAAAAACZAAAAAAAAAKEAAAAAAAAAuQAAAAAAAACBAAAAAAAAAMEAAAAAAAAAoQAAAAAAAACZAAAAAAAAAJkAAAAAAAAAuQAAAAAAAACBAAAAAAAAAMEAAAAAAAAAoQAAAAAAAACZAAAAAAAAAJkAAAAAAAAAsQAAAAAAAACBAAAAAAAAALkAAAAAAAAAoQAAAAAAAACZAAAAAAAAAJEAAAAAAAAAqQAAAAAAAACBAAAAAAAAALEAAAAAAAAAoQAAAAAAAACZAAAAAAAAAIkAAAAAAAAAoQAAAAAAAACBAAAAAAAAAKkAAAAAAAAAmQAAAAAAAACZAAAAAAAAAIkAAAAAAAAAmQAAAAAAAACBAAAAAAAAAKEAAAAAAAAAmQAAAAAAAACRAAAAAAAAAIkAAAAAAAAAmQAAAAAAAACBAAAAAAAAAKEAAAAAAAAAmQAAAAAAAACRAAAAAAAAAIkAAAAAAAAAmQAAAAAAAACBAAAAAAAAAKEAAAAAAAAAoQAAAAAAAACZAAAAAAAAAIEAAAAAAAAAmQAAAAAAAACBAAAAAAAAAKkAAAAAAAAAoQAAAAAAAACZAAAAAAAAAIEAAAAAAAAAmQAAAAAAAACBAAAAAAAAAKEAAAAAAAAAoQAAAAAAAACZAAAAAAAAAIEAAAAAAAAAmQAAAAAAAABxAAAAAAAAAKEAAAAAAAAAmQAAAAAAAACZAAAAAAAAAIEAAAAAAAAAmQAAAAAAAABxAAAAAAAAAKEAAAAAAAAAmQAAAAAAAACZAAAAAAAAAIEAAAAAAAAAmQAAAAAAAABxAAAAAAAAAKEAAAAAAAAAmQAAAAAAAACRAAAAAAAAAHEAAAAAAAAAkQAAAAAAAABxAAAAAAAAAKEAAAAAAAAAmQAAAAAAAACRAAAAAAAAAHEAAAAAAAAAkQAAAAAAAABxAAAAAAAAAJkAAAAAAAAAkQAAAAAAAACRAAAAAAAAAHEAAAAAAAAAkQAAAAAAAABxAAAAAAAAAJkAAAAAAAAAkQAAAAAAAACRAAAAAAAAAHEAAAAAAAAAkQAAAAAAAABhAAAAAAAAAJkAAAAAAAAAkQAAAAAAAACJAAAAAAAAAHEAAAAAAAAAiQAAAAAAAABhAAAAAAAAAJkAAAAAAAAAkQAAAAAAAACJAAAAAAAAAHEAAAAAAAAAiQAAAAAAAABhAAAAAAAAAJkAAAAAAAAAkQAAAAAAAACBAAAAAAAAAGEAAAAAAAAAiQAAAAAAAABhAAAAAAAAAJkAAAAAAAAAiQAAAAAAAACBAAAAAAAAAGEAAAAAAAAAgQAAAAAAAABhAAAAAAAAAKEAAAAAAAAAkQAAAAAAAACBAAAAAAAAAGEAAAAAAAAAgQAAAAAAAABhAAAAAAAAAKEAAAAAAAAAkQAAAAAAAACBAAAAAAAAAGEAAAAAAAAAiQAAAAAAAABxAAAAAAAAAKEAAAAAAAAAkQAAAAAAAACBAAAAAAAAAGEAAAAAAAAAiQAAAAAAAABxAAAAAAAAAKEAAAAAAAAAiQAAAAAAAACBAAAAAAAAAGEAAAAAAAAAiQAAAAAAAABxAAAAAAAAAKEAAAAAAAAAiQAAAAAAAACBAAAAAAAAAGEAAAAAAAAAiQAAAAAAAABxAAAAAAAAAKEAAAAAAAAAiQAAAAAAAACBAAAAAAAAAHEAAAAAAAAAiQAAAAAAAABxAAAAAAAAAKEAAAAAAAAAkQAAAAAAAACBAAAAAAAAAHEAAAAAAAAAkQAAAAAAAABxAAAAAAAAAKkAAAAAAAAAkQAAAAAAAACBAAAAAAAAAHEAAAAAAAAAiQAAAAAAAABxAAAAAAAAAKkAAAAAAAAAkQAAAAAAAACBAAAAAAAAAHEAAAAAAAAAiQAAAAAAAABxAAAAAAAAAKkAAAAAAAAAkQAAAAAAAACBAAAAAAAAAHEAAAAAAAAAiQAAAAAAAABxAAAAAAAAAKkAAAAAAAAAkQAAAAAAAACBAAAAAAAAAHEAAAAAAAAAkQAAAAAAAABxAAAAAAAAAKkAAAAAAAAAkQAAAAAAAABxAAAAAAAAAHEAAAAAAAAAkQAAAAAAAABxAAAAAAAAALEAAAAAAAAAkQAAAAAAAABxAAAAAAAAAIEAAAAAAAAAkQAAAAAAAABxAAAAAAAAALEAAAAAAAAAkQAAAAAAAABxAAAAAAAAAIEAAAAAAAAAmQAAAAAAAABxAAAAAAAAALEAAAAAAAAAkQAAAAAAAACBAAAAAAAAAIEAAAAAAAAAmQAAAAAAAABxAAAAAAAAALEAAAAAAAAAkQAAAAAAAACBAAAAAAAAAIEAAAAAAAAAoQAAAAAAAABxAAAAAAAAALEAAAAAAAAAkQAAAAAAAACBAAAAAAAAAIEAAAAAAAAAoQAAAAAAAABxAAAAAAAAALEAAAAAAAAAkQAAAAAAAACBAAAAAAAAAIEAAAAAAAAAoQAAAAAAAABxAAAAAAAAALEAAAAAAAAAkQAAAAAAAACJAAAAAAAAAIkAAAAAAAAAoQAAAAAAAABxAAAAAAAAAKkAAAAAAAAAkQAAAAAAAACJAAAAAAAAAIkAAAAAAAAAoQAAAAAAAABxAAAAAAAAAKkAAAAAAAAAkQAAAAAAAACJAAAAAAAAAIkAAAAAAAAAoQAAAAAAAABxAAAAAAAAAKkAAAAAAAAAkQAAAAAAAACJAAAAAAAAAIkAAAAAAAAAqQAAAAAAAABxAAAAAAAAALEAAAAAAAAAmQAAAAAAAACJAAAAAAAAAIkAAAAAAAAAqQAAAAAAAABxAAAAAAAAAKkAAAAAAAAAmQAAAAAAAACJAAAAAAAAAIkAAAAAAAAAsQAAAAAAAABxAAAAAAAAAKkAAAAAAAAAmQAAAAAAAACRAAAAAAAAAIkAAAAAAAAAuQAAAAAAAABxAAAAAAAAAKkAAAAAAAAAmQAAAAAAAACRAAAAAAAAAIkAAAAAAAAAuQAAAAAAAABxAAAAAAAAAKkAAAAAAAAAoQAAAAAAAACRAAAAAAAAAIkAAAAAAAAAuQAAAAAAAABxAAAAAAAAAKkAAAAAAAAAoQAAAAAAAACRAAAAAAAAAIkAAAAAAAAAwQAAAAAAAABxAAAAAAAAAKkAAAAAAAAAoQAAAAAAAACRAAAAAAAAAIkAAAAAAAAAwQAAAAAAAABxAAAAAAAAAKkAAAAAAAAAoQAAAAAAAACRAAAAAAAAAIkAAAAAAAAAwQAAAAAAAABxAAAAAAAAAKkAAAAAAAAAoQAAAAAAAACJAAAAAAAAAIkAAAAAAAAAwQAAAAAAAABhAAAAAAAAAKkAAAAAAAAAoQAAAAAAAACJAAAAAAAAAIkAAAAAAAAAwQAAAAAAAABhAAAAAAAAAKkAAAAAAAAAoQAAAAAAAACJAAAAAAAAAJEAAAAAAAAAxQAAAAAAAABhAAAAAAAAAKkAAAAAAAAAoQAAAAAAAACRAAAAAAAAAJEAAAAAAAAAxQAAAAAAAABhAAAAAAAAAKkAAAAAAAAAoQAAAAAAAACRAAAAAAAAAJEAAAAAAAAAxQAAAAAAAABhAAAAAAAAAKkAAAAAAAAAqQAAAAAAAACRAAAAAAAAAJEAAAAAAAAAxQAAAAAAAABxAAAAAAAAAKkAAAAAAAAAqQAAAAAAAACRAAAAAAAAAJEAAAAAAAAAcQAAAAAAAACpAAAAAAAAAKEAAAAAAAAAkQAAAAAAAACRAAAAAAAAAHEAAAAAAAAAoQAAAAAAAAChAAAAAAAAAIkAAAAAAAAAkQAAAAAAAABxAAAAAAAAAKEAAAAAAAAAoQAAAAAAAACJAAAAAAAAAIkAAAAAAAAAcQAAAAAAAAChAAAAAAAAAKEAAAAAAAAAiQAAAAAAAACJAAAAAAAAAHEAAAAAAAAAoQAAAAAAAAChAAAAAAAAAIkAAAAAAAAAiQAAAAAAAABxAAAAAAAAAKEAAAAAAAAAoQAAAAAAAACBAAAAAAAAAIkAAAAAAAAAcQAAAAAAAAChAAAAAAAAAKEAAAAAAAAAgQAAAAAAAACJAAAAAAAAAHEAAAAAAAAAoQAAAAAAAAChAAAAAAAAAIEAAAAAAAAAiQAAAAAAAABxAAAAAAAAAKEAAAAAAAAAoQAAAAAAAACBAAAAAAAAAJEAAAAAAAAAcQAAAAAAAAChAAAAAAAAAKEAAAAAAAAAgQAAAAAAAACJAAAAAAAAAHEAAAAAAAAAoQAAAAAAAAChAAAAAAAAAIEAAAAAAAAAkQAAAAAAAABxAAAAAAAAAKEAAAAAAAAAoQAAAAAAAACBAAAAAAAAAJEAAAAAAAAAcQAAAAAAAAChAAAAAAAAAKEAAAAAAAAAcQAAAAAAAACRAAAAAAAAAHEAAAAAAAAAoQAAAAAAAAChAAAAAAAAAIEAAAAAAAAAkQAAAAAAAABxAAAAAAAAAJkAAAAAAAAAmQAAAAAAAACBAAAAAAAAAJEAAAAAAAAAcQAAAAAAAACZAAAAAAAAAJkAAAAAAAAAgQAAAAAAAACJAAAAAAAAAHEAAAAAAAAAqQAAAAAAAACpAAAAAAAAAIEAAAAAAAAAiQAAAAAAAABxAAAAAAAAAKkAAAAAAAAAqQAAAAAAAACBAAAAAAAAAJEAAAAAAAAAgQAAAAAAAACpAAAAAAAAALEAAAAAAAAAgQAAAAAAAACRAAAAAAAAAIEAAAAAAAAAqQAAAAAAAACxAAAAAAAAAIEAAAAAAAAAkQAAAAAAAACBAAAAAAAAAKkAAAAAAAAAsQAAAAAAAABxAAAAAAAAAJEAAAAAAAAAgQAAAAAAAACxAAAAAAAAALEAAAAAAAAAcQAAAAAAAACRAAAAAAAAAIEAAAAAAAAAsQAAAAAAAAC5AAAAAAAAAIEAAAAAAAAAmQAAAAAAAACBAAAAAAAAALkAAAAAAAAAuQAAAAAAAACBAAAAAAAAAJkAAAAAAAAAgQAAAAAAAADFAAAAAAAAAMEAAAAAAAAAiQAAAAAAAACZAAAAAAAAAIEAAAAAAAAAyQAAAAAAAADBAAAAAAAAAIkAAAAAAAAAoQAAAAAAAACBAAAAAAAAAM0AAAAAAAAAxQAAAAAAAACJAAAAAAAAAKEAAAAAAAAAgQAAAAAAAADNAAAAAAAAAMUAAAAAAAAAiQAAAAAAAAChAAAAAAAAAIEAAAAAAAAA0QAAAAAAAADFAAAAAAAAAJEAAAAAAAAAoQAAAAAAAACBAAAAAAAAANEAAAAAAAAAxQAAAAAAAACRAAAAAAAAAKEAAAAAAAAAiQAAAAAAAADRAAAAAAAAAMkAAAAAAAAAkQAAAAAAAAChAAAAAAAAAIkAAAAAAAAA1QAAAAAAAADJAAAAAAAAAJkAAAAAAAAAoQAAAAAAAACJAAAAAAAAANUAAAAAAAAAyQAAAAAAAACZAAAAAAAAAKEAAAAAAAAAiQAAAAAAAADdAAAAAAAAAMkAAAAAAAAAoQAAAAAAAAChAAAAAAAAAOkAAAAAAAAAgQAAAAAAAADdAAAAAAAAAM0AAAAAAAAAoQAAAAAAAACpAAAAAAAAAOkAAAAAAAAAgQAAAAAAAADdAAAAAAAAAM0AAAAAAAAAoQAAAAAAAACpAAAAAAAAAOkAAAAAAAAAiQAAAAAAAADhAAAAAAAAAMkAAAAAAAAAoQAAAAAAAACpAAAAAAAAAOkAAAAAAAAAiQAAAAAAAADhAAAAAAAAAMkAAAAAAAAAmQAAAAAAAACpAAAAAAAAAOkAAAAAAAAAiQAAAAAAAADdAAAAAAAAAMkAAAAAAAAAoQAAAAAAAACpAAAAAAAAAOUAAAAAAAAAiQAAAAAAAADdAAAAAAAAAMkAAAAAAAAAoQAAAAAAAACpAAAAAAAAAOUAAAAAAAAAiQAAAAAAAADdAAAAAAAAAMkAAAAAAAAAoQAAAAAAAACpAAAAAAAAAOkAAAAAAAAAiQAAAAAAAADdAAAAAAAAAMkAAAAAAAAAoQAAAAAAAACpAAAAAAAAAPEAAAAAAAAAiQAAAAAAAADhAAAAAAAAAMkAAAAAAAAAoQAAAAAAAACpAAAAAAAAAPEAAAAAAAAAiQAAAAAAAADlAAAAAAAAAM0AAAAAAAAAqQAAAAAAAACxAAAAAAAAAPEAAAAAAAAAiQAAAAAAAADlAAAAAAAAAM0AAAAAAAAAqQAAAAAAAAC5AAAAAAAAAPUAAAAAAAAAiQAAAAAAAADpAAAAAAAAAM0AAAAAAAAAqQAAAAAAAAC5AAAAAAAAAPUAAAAAAAAAiQAAAAAAAADpAAAAAAAAAM0AAAAAAAAAqQAAAAAAAACxAAAAAAAAAPUAAAAAAAAAgQAAAAAAAADpAAAAAAAAAMkAAAAAAAAAsQAAAAAAAAC5AAAAAAAAAPEAAAAAAAAAgQAAAAAAAADpAAAAAAAAAMkAAAAAAAAAsQAAAAAAAAC5AAAAAAAAAPEAAAAAAAAAgQAAAAAAAADtAAAAAAAAANkAAAAAAAAAsQAAAAAAAAC5AAAAAAAAAPEAAAAAAAAAgQAAAAAAAADxAAAAAAAAANkAAAAAAAAAuQAAAAAAAADBAAAAAAAAAPEAAAAAAAAAiQAAAAAAAAD5AAAAAAAAAN0AAAAAAAAAuQAAAAAAAADBAAAAAAAAAPUAAAAAAAAAkQAAAAAAAAD9AAAAAAAAAN0AAAAAAAAAwQAAAAAAAADBAAAAAAAAAPUAAAAAAAAAkQAAAAAAAAEBAAAAAAAAAOEAAAAAAAAAwQAAAAAAAADFAAAAAAAAAPUAAAAAAAAAkQAAAAAAAAEBAAAAAAAAAOEAAAAAAAAAwQAAAAAAAADFAAAAAAAAAPUAAAAAAAAAmQAAAAAAAAEBAAAAAAAAAOEAAAAAAAAAwQAAAAAAAADJAAAAAAAAAPUAAAAAAAAAmQAAAAAAAgEBAAAAAAAAAOEAAAAAAAAAwQAAAAAAAADJAAAAAAAAAPUAAAAAAAAAoQAAAAAAAgEBAAAAAAAAAOUAAAAAAAAAxQAAAAAAAADJAAAAAAAAAPUAAAAAAAAAoQAAAAAAAAEFAAAAAAAAAOkAAAAAAAAAxQAAAAAAAADNAAAAAAAAAPkAAAAAAAAAoQAAAAAAAgEJAAAAAAAAAPEAAAAAAAAAxQAAAAAAAADRAAAAAAAAAPUAAAAAAAAAoQAAAAAAAgENAAAAAAAAAPEAAAAAAAAAyQAAAAAAAADZAAAAAAAAAPkAAAAAAAAAoQAAAAAAAgERAAAAAAAAAPUAAAAAAAAAzQAAAAAAAADhAAAAAAAAAQEAAAAAAAAAoQAAAAAAAAEVAAAAAAAAAPUAAAAAAAAA0QAAAAAAAADhAAAAAAAAAQUAAAAAAAAAqQAAAAAAAAEVAAAAAAAAAPkAAAAAAAAA0QAAAAAAAADlAAAAAAACAQUAAAAAAAAAoQAAAAAAAgEVAAAAAAAAAP0AAAAAAAAA0QAAAAAAAADlAAAAAAACAQUAAAAAAAAAqQAAAAAAAgEVAAAAAAAAAP0AAAAAAAAA0QAAAAAAAADpAAAAAAAAAQUAAAAAAAAAqQAAAAAAAAEVAAAAAAAAAP0AAAAAAAAA0QAAAAAAAADpAAAAAAAAAQUAAAAAAAAAqQAAAAAAAgERAAAAAAAAAPkAAAAAAAAA1QAAAAAAAADlAAAAAAACAQEAAAAAAAAAqQAAAAAAAgERAAAAAAAAAPkAAAAAAAAA1QAAAAAAAADlAAAAAAAAAQEAAAAAAAAAsQAAAAAAAgERAAAAAAAAAPkAAAAAAAAA0QAAAAAAAADlAAAAAAAAAQEAAAAAAAAAqQAAAAAAAgERAAAAAAAAAPUAAAAAAAAA0QAAAAAAAADlAAAAAAACAQEAAAAAAAAAqQAAAAAAAAEVAAAAAAAAAPEAAAAAAAAA1QAAAAAAAADhAAAAAAAAAQUAAAAAAAAAqQAAAAAAAgERAAAAAAAAAPEAAAAAAAAA1QAAAAAAAADhAAAAAAACAQUAAAAAAAAAqQAAAAAAAAEVAAAAAAAAAOkAAAAAAAAA1QAAAAAAAADhAAAAAAACAQUAAAAAAAAAqQAAAAAAAgEVAAAAAAAAAO0AAAAAAAAA1QAAAAAAAADdAAAAAAAAAQkAAAAAAAAAqQAAAAAAAAEZAAAAAAAAAPEAAAAAAAAA2QAAAAAAAADdAAAAAAAAAQkAAAAAAAAAoQAAAAAAAAEZAAAAAAAAAPEAAAAAAAAA2QAAAAAAAADZAAAAAAAAAQkAAAAAAAAAoQAAAAAAAAEZAAAAAAAAAPEAAAAAAAAA2QAAAAAAAADZAAAAAAAAAQkAAAAAAAAAoQAAAAAAAAEZAAAAAAAAAPEAAAAAAAAA2QAAAAAAAADZAAAAAAACAQkAAAAAAAAAmQAAAAAAAAEZAAAAAAAAAO0AAAAAAAAA3QAAAAAAAADZAAAAAAAAAQ0AAAAAAAAAmQAAAAAAAgEVAAAAAAAAAO0AAAAAAAAA3QAAAAAAAADZAAAAAAACAQkAAAAAAAAAmQAAAAAAAAEVAAAAAAAAAOkAAAAAAAAA3QAAAAAAAADVAAAAAAACAQkAAAAAAAAAmQAAAAAAAAERAAAAAAAAAOUAAAAAAAAA3QAAAAAAAADRAAAAAAAAAQkAAAAAAAAAmQAAAAAAAAENAAAAAAAAAOEAAAAAAAAA2QAAAAAAAADNAAAAAAACAQUAAAAAAAAAmQAAAAAAAgEFAAAAAAAAAN0AAAAAAAAA2QAAAAAAAADFAAAAAAACAQEAAAAAAAAAmQAAAAAAAgEBAAAAAAAAAN0AAAAAAAAA1QAAAAAAAADBAAAAAAAAAP0AAAAAAAAAmQAAAAAAAAEFAAAAAAAAANkAAAAAAAAA1QAAAAAAAAC5AAAAAAAAAPUAAAAAAAAAmQAAAAAAAgEJAAAAAAAAANkAAAAAAAAA1QAAAAAAAAC5AAAAAAAAAPUAAAAAAAAAmQAAAAAAAgEJAAAAAAAAANkAAAAAAAAA1QAAAAAAAAC5AAAAAAAAAPUAAAAAAAAAmQAAAAAAAgEJAAAAAAAAANkAAAAAAAAA1QAAAAAAAAC5AAAAAAAAAPUAAAAAAAAAmQAAAAAAAgEJAAAAAAAAANkAAAAAAAAA1QAAAAAAAAC5AAAAAAAAAPEAAAAAAAAAmQAAAAAAAAEJAAAAAAAAANkAAAAAAAAA1QAAAAAAAAC5AAAAAAAAAPEAAAAAAAAAmQAAAAAAAgEJAAAAAAAAANkAAAAAAAAA1QAAAAAAAAC5AAAAAAAAAPEAAAAAAAAAmQAAAAAAAgEJAAAAAAAAANkAAAAAAAAA1QAAAAAAAAC5AAAAAAAAAPEAAAAAAAAAoQAAAAAAAgEJAAAAAAAAANkAAAAAAAAA1QAAAAAAAAC5AAAAAAAAAO0AAAAAAAAAoQAAAAAAAgEJAAAAAAAAANkAAAAAAAAA1QAAAAAAAAC5AAAAAAAAAOUAAAAAAAAAoQA==",
          "dtype": "f8"
         },
         "xaxis": "x3",
         "yaxis": "y3"
        }
       ],
       "layout": {
        "annotations": [
         {
          "font": {
           "size": 16
          },
          "showarrow": false,
          "text": "Distribución de O3",
          "x": 0.14444444444444446,
          "xanchor": "center",
          "xref": "paper",
          "y": 1,
          "yanchor": "bottom",
          "yref": "paper"
         },
         {
          "font": {
           "size": 16
          },
          "showarrow": false,
          "text": "Distribución de NO2",
          "x": 0.5,
          "xanchor": "center",
          "xref": "paper",
          "y": 1,
          "yanchor": "bottom",
          "yref": "paper"
         },
         {
          "font": {
           "size": 16
          },
          "showarrow": false,
          "text": "Distribución de PM10",
          "x": 0.8555555555555556,
          "xanchor": "center",
          "xref": "paper",
          "y": 1,
          "yanchor": "bottom",
          "yref": "paper"
         }
        ],
        "bargap": 0.1,
        "height": 500,
        "shapes": [
         {
          "fillcolor": "green",
          "layer": "below",
          "line": {
           "width": 0
          },
          "opacity": 0.2,
          "type": "rect",
          "x0": 1,
          "x1": 100,
          "xref": "x",
          "y0": 0,
          "y1": 1,
          "yref": "y domain"
         },
         {
          "fillcolor": "green",
          "layer": "below",
          "line": {
           "width": 0
          },
          "opacity": 0.2,
          "type": "rect",
          "x0": 1,
          "x1": 91,
          "xref": "x2",
          "y0": 0,
          "y1": 1,
          "yref": "y2 domain"
         },
         {
          "fillcolor": "orange",
          "layer": "below",
          "line": {
           "width": 0
          },
          "opacity": 0.2,
          "type": "rect",
          "x0": 92,
          "x1": 117,
          "xref": "x2",
          "y0": 0,
          "y1": 1,
          "yref": "y2 domain"
         },
         {
          "fillcolor": "green",
          "layer": "below",
          "line": {
           "width": 0
          },
          "opacity": 0.2,
          "type": "rect",
          "x0": 2,
          "x1": 36,
          "xref": "x3",
          "y0": 0,
          "y1": 1,
          "yref": "y3 domain"
         },
         {
          "fillcolor": "orange",
          "layer": "below",
          "line": {
           "width": 0
          },
          "opacity": 0.2,
          "type": "rect",
          "x0": 37,
          "x1": 44,
          "xref": "x3",
          "y0": 0,
          "y1": 1,
          "yref": "y3 domain"
         }
        ],
        "template": {
         "data": {
          "bar": [
           {
            "error_x": {
             "color": "#2a3f5f"
            },
            "error_y": {
             "color": "#2a3f5f"
            },
            "marker": {
             "line": {
              "color": "#E5ECF6",
              "width": 0.5
             },
             "pattern": {
              "fillmode": "overlay",
              "size": 10,
              "solidity": 0.2
             }
            },
            "type": "bar"
           }
          ],
          "barpolar": [
           {
            "marker": {
             "line": {
              "color": "#E5ECF6",
              "width": 0.5
             },
             "pattern": {
              "fillmode": "overlay",
              "size": 10,
              "solidity": 0.2
             }
            },
            "type": "barpolar"
           }
          ],
          "carpet": [
           {
            "aaxis": {
             "endlinecolor": "#2a3f5f",
             "gridcolor": "white",
             "linecolor": "white",
             "minorgridcolor": "white",
             "startlinecolor": "#2a3f5f"
            },
            "baxis": {
             "endlinecolor": "#2a3f5f",
             "gridcolor": "white",
             "linecolor": "white",
             "minorgridcolor": "white",
             "startlinecolor": "#2a3f5f"
            },
            "type": "carpet"
           }
          ],
          "choropleth": [
           {
            "colorbar": {
             "outlinewidth": 0,
             "ticks": ""
            },
            "type": "choropleth"
           }
          ],
          "contour": [
           {
            "colorbar": {
             "outlinewidth": 0,
             "ticks": ""
            },
            "colorscale": [
             [
              0,
              "#0d0887"
             ],
             [
              0.1111111111111111,
              "#46039f"
             ],
             [
              0.2222222222222222,
              "#7201a8"
             ],
             [
              0.3333333333333333,
              "#9c179e"
             ],
             [
              0.4444444444444444,
              "#bd3786"
             ],
             [
              0.5555555555555556,
              "#d8576b"
             ],
             [
              0.6666666666666666,
              "#ed7953"
             ],
             [
              0.7777777777777778,
              "#fb9f3a"
             ],
             [
              0.8888888888888888,
              "#fdca26"
             ],
             [
              1,
              "#f0f921"
             ]
            ],
            "type": "contour"
           }
          ],
          "contourcarpet": [
           {
            "colorbar": {
             "outlinewidth": 0,
             "ticks": ""
            },
            "type": "contourcarpet"
           }
          ],
          "heatmap": [
           {
            "colorbar": {
             "outlinewidth": 0,
             "ticks": ""
            },
            "colorscale": [
             [
              0,
              "#0d0887"
             ],
             [
              0.1111111111111111,
              "#46039f"
             ],
             [
              0.2222222222222222,
              "#7201a8"
             ],
             [
              0.3333333333333333,
              "#9c179e"
             ],
             [
              0.4444444444444444,
              "#bd3786"
             ],
             [
              0.5555555555555556,
              "#d8576b"
             ],
             [
              0.6666666666666666,
              "#ed7953"
             ],
             [
              0.7777777777777778,
              "#fb9f3a"
             ],
             [
              0.8888888888888888,
              "#fdca26"
             ],
             [
              1,
              "#f0f921"
             ]
            ],
            "type": "heatmap"
           }
          ],
          "histogram": [
           {
            "marker": {
             "pattern": {
              "fillmode": "overlay",
              "size": 10,
              "solidity": 0.2
             }
            },
            "type": "histogram"
           }
          ],
          "histogram2d": [
           {
            "colorbar": {
             "outlinewidth": 0,
             "ticks": ""
            },
            "colorscale": [
             [
              0,
              "#0d0887"
             ],
             [
              0.1111111111111111,
              "#46039f"
             ],
             [
              0.2222222222222222,
              "#7201a8"
             ],
             [
              0.3333333333333333,
              "#9c179e"
             ],
             [
              0.4444444444444444,
              "#bd3786"
             ],
             [
              0.5555555555555556,
              "#d8576b"
             ],
             [
              0.6666666666666666,
              "#ed7953"
             ],
             [
              0.7777777777777778,
              "#fb9f3a"
             ],
             [
              0.8888888888888888,
              "#fdca26"
             ],
             [
              1,
              "#f0f921"
             ]
            ],
            "type": "histogram2d"
           }
          ],
          "histogram2dcontour": [
           {
            "colorbar": {
             "outlinewidth": 0,
             "ticks": ""
            },
            "colorscale": [
             [
              0,
              "#0d0887"
             ],
             [
              0.1111111111111111,
              "#46039f"
             ],
             [
              0.2222222222222222,
              "#7201a8"
             ],
             [
              0.3333333333333333,
              "#9c179e"
             ],
             [
              0.4444444444444444,
              "#bd3786"
             ],
             [
              0.5555555555555556,
              "#d8576b"
             ],
             [
              0.6666666666666666,
              "#ed7953"
             ],
             [
              0.7777777777777778,
              "#fb9f3a"
             ],
             [
              0.8888888888888888,
              "#fdca26"
             ],
             [
              1,
              "#f0f921"
             ]
            ],
            "type": "histogram2dcontour"
           }
          ],
          "mesh3d": [
           {
            "colorbar": {
             "outlinewidth": 0,
             "ticks": ""
            },
            "type": "mesh3d"
           }
          ],
          "parcoords": [
           {
            "line": {
             "colorbar": {
              "outlinewidth": 0,
              "ticks": ""
             }
            },
            "type": "parcoords"
           }
          ],
          "pie": [
           {
            "automargin": true,
            "type": "pie"
           }
          ],
          "scatter": [
           {
            "fillpattern": {
             "fillmode": "overlay",
             "size": 10,
             "solidity": 0.2
            },
            "type": "scatter"
           }
          ],
          "scatter3d": [
           {
            "line": {
             "colorbar": {
              "outlinewidth": 0,
              "ticks": ""
             }
            },
            "marker": {
             "colorbar": {
              "outlinewidth": 0,
              "ticks": ""
             }
            },
            "type": "scatter3d"
           }
          ],
          "scattercarpet": [
           {
            "marker": {
             "colorbar": {
              "outlinewidth": 0,
              "ticks": ""
             }
            },
            "type": "scattercarpet"
           }
          ],
          "scattergeo": [
           {
            "marker": {
             "colorbar": {
              "outlinewidth": 0,
              "ticks": ""
             }
            },
            "type": "scattergeo"
           }
          ],
          "scattergl": [
           {
            "marker": {
             "colorbar": {
              "outlinewidth": 0,
              "ticks": ""
             }
            },
            "type": "scattergl"
           }
          ],
          "scattermap": [
           {
            "marker": {
             "colorbar": {
              "outlinewidth": 0,
              "ticks": ""
             }
            },
            "type": "scattermap"
           }
          ],
          "scattermapbox": [
           {
            "marker": {
             "colorbar": {
              "outlinewidth": 0,
              "ticks": ""
             }
            },
            "type": "scattermapbox"
           }
          ],
          "scatterpolar": [
           {
            "marker": {
             "colorbar": {
              "outlinewidth": 0,
              "ticks": ""
             }
            },
            "type": "scatterpolar"
           }
          ],
          "scatterpolargl": [
           {
            "marker": {
             "colorbar": {
              "outlinewidth": 0,
              "ticks": ""
             }
            },
            "type": "scatterpolargl"
           }
          ],
          "scatterternary": [
           {
            "marker": {
             "colorbar": {
              "outlinewidth": 0,
              "ticks": ""
             }
            },
            "type": "scatterternary"
           }
          ],
          "surface": [
           {
            "colorbar": {
             "outlinewidth": 0,
             "ticks": ""
            },
            "colorscale": [
             [
              0,
              "#0d0887"
             ],
             [
              0.1111111111111111,
              "#46039f"
             ],
             [
              0.2222222222222222,
              "#7201a8"
             ],
             [
              0.3333333333333333,
              "#9c179e"
             ],
             [
              0.4444444444444444,
              "#bd3786"
             ],
             [
              0.5555555555555556,
              "#d8576b"
             ],
             [
              0.6666666666666666,
              "#ed7953"
             ],
             [
              0.7777777777777778,
              "#fb9f3a"
             ],
             [
              0.8888888888888888,
              "#fdca26"
             ],
             [
              1,
              "#f0f921"
             ]
            ],
            "type": "surface"
           }
          ],
          "table": [
           {
            "cells": {
             "fill": {
              "color": "#EBF0F8"
             },
             "line": {
              "color": "white"
             }
            },
            "header": {
             "fill": {
              "color": "#C8D4E3"
             },
             "line": {
              "color": "white"
             }
            },
            "type": "table"
           }
          ]
         },
         "layout": {
          "annotationdefaults": {
           "arrowcolor": "#2a3f5f",
           "arrowhead": 0,
           "arrowwidth": 1
          },
          "autotypenumbers": "strict",
          "coloraxis": {
           "colorbar": {
            "outlinewidth": 0,
            "ticks": ""
           }
          },
          "colorscale": {
           "diverging": [
            [
             0,
             "#8e0152"
            ],
            [
             0.1,
             "#c51b7d"
            ],
            [
             0.2,
             "#de77ae"
            ],
            [
             0.3,
             "#f1b6da"
            ],
            [
             0.4,
             "#fde0ef"
            ],
            [
             0.5,
             "#f7f7f7"
            ],
            [
             0.6,
             "#e6f5d0"
            ],
            [
             0.7,
             "#b8e186"
            ],
            [
             0.8,
             "#7fbc41"
            ],
            [
             0.9,
             "#4d9221"
            ],
            [
             1,
             "#276419"
            ]
           ],
           "sequential": [
            [
             0,
             "#0d0887"
            ],
            [
             0.1111111111111111,
             "#46039f"
            ],
            [
             0.2222222222222222,
             "#7201a8"
            ],
            [
             0.3333333333333333,
             "#9c179e"
            ],
            [
             0.4444444444444444,
             "#bd3786"
            ],
            [
             0.5555555555555556,
             "#d8576b"
            ],
            [
             0.6666666666666666,
             "#ed7953"
            ],
            [
             0.7777777777777778,
             "#fb9f3a"
            ],
            [
             0.8888888888888888,
             "#fdca26"
            ],
            [
             1,
             "#f0f921"
            ]
           ],
           "sequentialminus": [
            [
             0,
             "#0d0887"
            ],
            [
             0.1111111111111111,
             "#46039f"
            ],
            [
             0.2222222222222222,
             "#7201a8"
            ],
            [
             0.3333333333333333,
             "#9c179e"
            ],
            [
             0.4444444444444444,
             "#bd3786"
            ],
            [
             0.5555555555555556,
             "#d8576b"
            ],
            [
             0.6666666666666666,
             "#ed7953"
            ],
            [
             0.7777777777777778,
             "#fb9f3a"
            ],
            [
             0.8888888888888888,
             "#fdca26"
            ],
            [
             1,
             "#f0f921"
            ]
           ]
          },
          "colorway": [
           "#636efa",
           "#EF553B",
           "#00cc96",
           "#ab63fa",
           "#FFA15A",
           "#19d3f3",
           "#FF6692",
           "#B6E880",
           "#FF97FF",
           "#FECB52"
          ],
          "font": {
           "color": "#2a3f5f"
          },
          "geo": {
           "bgcolor": "white",
           "lakecolor": "white",
           "landcolor": "#E5ECF6",
           "showlakes": true,
           "showland": true,
           "subunitcolor": "white"
          },
          "hoverlabel": {
           "align": "left"
          },
          "hovermode": "closest",
          "mapbox": {
           "style": "light"
          },
          "paper_bgcolor": "white",
          "plot_bgcolor": "#E5ECF6",
          "polar": {
           "angularaxis": {
            "gridcolor": "white",
            "linecolor": "white",
            "ticks": ""
           },
           "bgcolor": "#E5ECF6",
           "radialaxis": {
            "gridcolor": "white",
            "linecolor": "white",
            "ticks": ""
           }
          },
          "scene": {
           "xaxis": {
            "backgroundcolor": "#E5ECF6",
            "gridcolor": "white",
            "gridwidth": 2,
            "linecolor": "white",
            "showbackground": true,
            "ticks": "",
            "zerolinecolor": "white"
           },
           "yaxis": {
            "backgroundcolor": "#E5ECF6",
            "gridcolor": "white",
            "gridwidth": 2,
            "linecolor": "white",
            "showbackground": true,
            "ticks": "",
            "zerolinecolor": "white"
           },
           "zaxis": {
            "backgroundcolor": "#E5ECF6",
            "gridcolor": "white",
            "gridwidth": 2,
            "linecolor": "white",
            "showbackground": true,
            "ticks": "",
            "zerolinecolor": "white"
           }
          },
          "shapedefaults": {
           "line": {
            "color": "#2a3f5f"
           }
          },
          "ternary": {
           "aaxis": {
            "gridcolor": "white",
            "linecolor": "white",
            "ticks": ""
           },
           "baxis": {
            "gridcolor": "white",
            "linecolor": "white",
            "ticks": ""
           },
           "bgcolor": "#E5ECF6",
           "caxis": {
            "gridcolor": "white",
            "linecolor": "white",
            "ticks": ""
           }
          },
          "title": {
           "x": 0.05
          },
          "xaxis": {
           "automargin": true,
           "gridcolor": "white",
           "linecolor": "white",
           "ticks": "",
           "title": {
            "standoff": 15
           },
           "zerolinecolor": "white",
           "zerolinewidth": 2
          },
          "yaxis": {
           "automargin": true,
           "gridcolor": "white",
           "linecolor": "white",
           "ticks": "",
           "title": {
            "standoff": 15
           },
           "zerolinecolor": "white",
           "zerolinewidth": 2
          }
         }
        },
        "title": {
         "text": "Histogramas de contaminantes"
        },
        "width": 1200,
        "xaxis": {
         "anchor": "y",
         "domain": [
          0,
          0.2888888888888889
         ],
         "title": {
          "text": "Valor"
         }
        },
        "xaxis2": {
         "anchor": "y2",
         "domain": [
          0.35555555555555557,
          0.6444444444444445
         ],
         "title": {
          "text": "Valor"
         }
        },
        "xaxis3": {
         "anchor": "y3",
         "domain": [
          0.7111111111111111,
          1
         ],
         "title": {
          "text": "Valor"
         }
        },
        "yaxis": {
         "anchor": "x",
         "domain": [
          0,
          1
         ],
         "title": {
          "text": "Frecuencia"
         }
        },
        "yaxis2": {
         "anchor": "x2",
         "domain": [
          0,
          1
         ],
         "title": {
          "text": "Frecuencia"
         }
        },
        "yaxis3": {
         "anchor": "x3",
         "domain": [
          0,
          1
         ],
         "title": {
          "text": "Frecuencia"
         }
        }
       }
      }
     },
     "metadata": {},
     "output_type": "display_data"
    }
   ],
   "source": [
    "import pandas as pd\n",
    "import plotly.graph_objects as go\n",
    "from plotly.subplots import make_subplots\n",
    "\n",
    "# Recarga del archivo (después de reinicio, suponiendo que ha sido subido como 'air_quality.csv')\n",
    "df = pd.read_csv(\"data/air_quality_Nov2017.csv\")\n",
    "\n",
    "# Conversión de columnas a numérico\n",
    "for col in [\"O3 Value\", \"NO2 Value\", \"PM10 Value\"]:\n",
    "    df[col] = pd.to_numeric(df[col], errors=\"coerce\")\n",
    "\n",
    "# Función única que genera las tres gráficas como subplots\n",
    "def plot_all_histograms(df):\n",
    "    fig = make_subplots(rows=1, cols=3, subplot_titles=[\"Distribución de O3\", \"Distribución de NO2\", \"Distribución de PM10\"])\n",
    "\n",
    "    contaminants = [\n",
    "        (\"O3 Value\", \"O3 Quality\", \"O3\", 1),\n",
    "        (\"NO2 Value\", \"NO2 Quality\", \"NO2\", 2),\n",
    "        (\"PM10 Value\", \"PM10 Quality\", \"PM10\", 3)\n",
    "    ]\n",
    "\n",
    "    for value_col, quality_col, title, col_index in contaminants:\n",
    "        # Histograma\n",
    "        fig.add_trace(go.Histogram(\n",
    "            x=df[value_col].dropna(),\n",
    "            nbinsx=30,\n",
    "            marker_color='steelblue',\n",
    "            name=title,\n",
    "            showlegend=False\n",
    "        ), row=1, col=col_index)\n",
    "\n",
    "        # Fondos por calidad\n",
    "        good_vals = df[df[quality_col] == \"Good\"][value_col].dropna()\n",
    "        mod_vals = df[df[quality_col] == \"Moderate\"][value_col].dropna()\n",
    "\n",
    "        if not good_vals.empty:\n",
    "            fig.add_vrect(\n",
    "                x0=good_vals.min(), x1=good_vals.max(),\n",
    "                fillcolor=\"green\", opacity=0.2, layer=\"below\", line_width=0,\n",
    "                row=1, col=col_index\n",
    "            )\n",
    "        if not mod_vals.empty:\n",
    "            fig.add_vrect(\n",
    "                x0=mod_vals.min(), x1=mod_vals.max(),\n",
    "                fillcolor=\"orange\", opacity=0.2, layer=\"below\", line_width=0,\n",
    "                row=1, col=col_index\n",
    "            )\n",
    "\n",
    "    fig.update_layout(\n",
    "        height=500,\n",
    "        width=1200,\n",
    "        title_text=\"Histogramas de contaminantes\",\n",
    "        bargap=0.1\n",
    "    )\n",
    "    fig.update_xaxes(title_text=\"Valor\")\n",
    "    fig.update_yaxes(title_text=\"Frecuencia\")\n",
    "    fig.show()\n",
    "\n",
    "# Ejecutar la función\n",
    "plot_all_histograms(df)\n"
   ]
  }
 ],
 "metadata": {
  "kernelspec": {
   "display_name": "Python 3",
   "language": "python",
   "name": "python3"
  },
  "language_info": {
   "codemirror_mode": {
    "name": "ipython",
    "version": 3
   },
   "file_extension": ".py",
   "mimetype": "text/x-python",
   "name": "python",
   "nbconvert_exporter": "python",
   "pygments_lexer": "ipython3",
   "version": "3.10.11"
  }
 },
 "nbformat": 4,
 "nbformat_minor": 5
}
